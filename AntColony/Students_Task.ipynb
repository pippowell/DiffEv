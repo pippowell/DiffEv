{
 "cells": [
  {
   "cell_type": "markdown",
   "metadata": {},
   "source": [
    "# Ant Colony Optimization - Student task\n",
    "\n",
    "**Credit:** Annalena Bebenroth, Kamran Vatankhah-Barazandeh, Marcel Banser, Johanna Linkemeyer, Reem Farah, Mortimer von Chappuis"
   ]
  },
  {
   "cell_type": "markdown",
   "metadata": {},
   "source": [
    "### Context description:\n",
    "You might have heard of the 9€ ticket that should be available in Germany from June until August. With this ticket, you are able to take regional trains and busses within Germany for 9€ per month. You're taking the chance and plan a city trip through Germany. Since you don't want to spend too much time in the trains to have more time in the cities, you want to optimize your traveling route. \n",
    "\n",
    "Specifically, you want to visit the following cities: \n",
    "\n",
    "**Osnabrück, Münster, Köln, München, Hamburg, Berlin, Hannover, Karlsruhe, Leipzig, Düsseldorf,Kassel, Cottbus, Bremen, Nürnberg, Saarbrücken**\n",
    "\n",
    "For task simplicity, we assume that:\n",
    "1. there are direct connections between all cities.\n",
    "2. the distance between the cities is a valid indicator for the required travel time.\n",
    "\n",
    "Of course, both assumptions might not be true in the real world."
   ]
  },
  {
   "cell_type": "markdown",
   "metadata": {},
   "source": [
    "### Task 1: The Ant System\n",
    "In the presentation, you have seen how Ant System can be used to solve the TSP. We want you to implement this yourself to solve the task decribed above. We provide you with the basic code structure, which includes the classes ```Ant``` and ```AntColony```. You will have to add your implementation marked with *## add your code here*. We also provide brief descriptions of what should be implemented at those positions. For the relevant formulas, we would like to refer to the presentation slides regarding **Ant System**.\n",
    "\n",
    "Our implementation further makes use of the classes ```View```, ```Node```, ```Edge```, ```Graph```, ```Germany```. You can view those as helper classes contained in the file ```graph.py```. You do not have to do anything in that file."
   ]
  },
  {
   "cell_type": "code",
   "execution_count": 3,
   "metadata": {},
   "outputs": [],
   "source": [
    "from itertools import count\n",
    "from graph import *\n",
    "from time import time\n",
    "import random\n"
   ]
  },
  {
   "cell_type": "markdown",
   "metadata": {},
   "source": [
    "### Task 1.1 Finish the Ant class\n",
    "For the Ant class, there are three function that you need to implement: ```reset```, ```step```, and ```transitions```. In their docstrings, you can see what is supposed to happen in those functions."
   ]
  },
  {
   "cell_type": "code",
   "execution_count": 123,
   "metadata": {},
   "outputs": [],
   "source": [
    "class Ant:\n",
    "    def __init__(self, graph, neighbors, valid, alpha=1, beta=1, termination=lambda self: bool(self.nodes)):\n",
    "        \"\"\"\n",
    "        An ant is supposed to travel within a graph, visiting all nodes exactly once.\n",
    "        :param graph: graph in which the ant is traveling\n",
    "        :param neighbors: function that returns the neighbours of the node the ant currently is on\n",
    "        :param valid: True once an ant has finished its solution\n",
    "        :param alpha: importance of pheromone quantity\n",
    "        :param beta: importance of heuristic information\n",
    "        :param termination:\n",
    "        \"\"\"\n",
    "        self.graph = graph\n",
    "        self.neighbours = lambda n: neighbors(self, n)\n",
    "        self.valid = lambda: valid(self)\n",
    "        self.alpha = alpha\n",
    "        self.beta = beta\n",
    "        self.termination = lambda: termination(self)\n",
    "        self.reset()\n",
    "\n",
    "    def __contains__(self, other):\n",
    "        \"\"\"\n",
    "        Allows to test, whether the input is contained in either the nodes or edges within the current path.\n",
    "        :param other: input can be an edge or node or another object\n",
    "        :return: True if the inpu already is in the path (either as a node or edge), False otherwise\n",
    "        \"\"\"\n",
    "        if isinstance(other, Node):\n",
    "            return other in self.path_nodes\n",
    "        elif isinstance(other, Edge):\n",
    "            return other in self.path_edges\n",
    "        else:\n",
    "            return False\n",
    "\n",
    "    def reset(self):\n",
    "        \"\"\"\n",
    "        Resets the current 'status' of an ant, i.e. ant is initialized on a random node within the graph and has not\n",
    "        travelled yet.\n",
    "        \"\"\"\n",
    "        ## add your code here\n",
    "        ## TASK: Implement the class variables self.travel_dist (int), self.node (Node), self.path_nodes (list), and \n",
    "        ## self.path_edges (list)\n",
    "        \n",
    "        self.travel_dist = 0\n",
    "        self.node = self.graph[random.randint(0, len(self.graph)-1)]\n",
    "        self.path_nodes = []\n",
    "        self.path_edges = []\n",
    "\n",
    "    def step(self):\n",
    "        \"\"\"\n",
    "        Performs the next step of the ant, choosing the next node based on transition probabilities and adds the node\n",
    "        and edges to the current path information.\n",
    "        :return: True if a next step was performed, False otherwise\n",
    "        \"\"\"\n",
    "        ## add your code here\n",
    "        ## HINT: You have to use the transitions function to determine the next node that is to be visited\n",
    "        pass\n",
    "\n",
    "    def transitions(self):\n",
    "        \"\"\"\n",
    "        Performs the calculations to receive information which nodes can be visited next with which probabilities.\n",
    "        :return nodes, probabilities: return the nodes and their respective probabilities that the ant travels to next\n",
    "        \"\"\"\n",
    "        ## add your code here\n",
    "        ## HINT: You could need the function self.neighbours() --> Did not use it as it only returns True for me and not the neighbours\n",
    "        nodes = []\n",
    "        values= []\n",
    "        probabilities = []\n",
    "           \n",
    "        # get neighbours \n",
    "        for n in self.node:\n",
    "            nodes.append(n)\n",
    "        \n",
    "        # combined pheromone and heuristic value of edge i,j\n",
    "        for n in nodes:\n",
    "            edge = self.graph[self.node, n]\n",
    "            val = np.power(edge.pheromones, self.alpha) * np.power(edge.heuristic, self.beta)\n",
    "            values.append(val)\n",
    "            \n",
    "        # sum of sum of all combined values of available edges\n",
    "        sum_available = np.sum(values)\n",
    "        \n",
    "        # calculation of transition probability\n",
    "        for n in range(len(nodes)):\n",
    "            prob = values[n]/sum_available\n",
    "            probabilities.append(prob) \n",
    "            \n",
    "        return nodes, probabilities"
   ]
  },
  {
   "cell_type": "markdown",
   "metadata": {},
   "source": [
    "### Task 1.2 Finish the AntColony class\n",
    "\n",
    "For this task, you have to implement the ```update``` function. This is where the pheromone trails are updated for the next iteration. You also have to set the heuristic information in ```init```."
   ]
  },
  {
   "cell_type": "code",
   "execution_count": 124,
   "metadata": {},
   "outputs": [],
   "source": [
    "class AntColony:\n",
    "    def __init__(self, n_ants, graph, rho=0.1, alpha=1, beta=1,\n",
    "                 neighbors=lambda a, n: len(a.graph) > len(a.path_nodes) and n not in a.path_nodes \n",
    "                                     or len(a.graph) == len(a.path_nodes) and n == a.path_edges[0].source,\n",
    "                 valid=lambda a: len(a.path_nodes) == len(a.graph) + 1, elitist=False):\n",
    "        \"\"\"\n",
    "        An ant colony consists of a given number of ants, a graph in which the ants travel and parameter information on\n",
    "        the algorithm: rho, alpha, and beta.\n",
    "        :param n_ants: Number of ants within the colony\n",
    "        :param graph: Graph with a problem to solve\n",
    "        :param rho: Evaporation rate\n",
    "        :param alpha: importance of pheromone quantity\n",
    "        :param beta: importance of heuristic information\n",
    "        :param neighbors: a function how the neighbours of a node are defined\n",
    "        :param valid: a function that determines if ants have found a valid solution\n",
    "        \"\"\"\n",
    "        self.n_ants = n_ants\n",
    "        self.graph = graph\n",
    "        self.rho = rho\n",
    "        self.alpha = alpha\n",
    "        self.beta = beta\n",
    "        self.graph.edges.heuristic = None ## add your code here - exchange None with the correct heuristics\n",
    "        self.elitist = elitist\n",
    "        self.ants = [Ant(self.graph, neighbors, valid, alpha, beta) for _ in range(n_ants)]\n",
    "        self.node = random.choice(graph)\n",
    "        self.graph.edges.pheromone = 1.0\n",
    "\n",
    "    def __call__(self, N=None):\n",
    "        \"\"\"\n",
    "        Executes the ant colony optimization algorithm.\n",
    "        :param N: number of iterations\n",
    "        :param visualization: whether intermediate results should be visualized\n",
    "        :return: # TODO\n",
    "        \"\"\"\n",
    "        start = time()\n",
    "        iterator = count() if N is None else range(N)\n",
    "        self.min_length = float('inf')\n",
    "        self.min_path = None\n",
    "\n",
    "        for _ in iterator:\n",
    "            # Reset all ants at the beginning of each iteration\n",
    "            for ant in self:\n",
    "                ant.reset()\n",
    "                \n",
    "            # Let ants create their solution and update pheromones based on those\n",
    "            self.construct()\n",
    "            self.daemon()\n",
    "            self.update()\n",
    "            \n",
    "        end = time()\n",
    "        print(f\"RUN TIME: {round(end - start, 1)} sec\")\n",
    "        return self.min_path, self.min_length, self.graph.edges.pheromone\n",
    "\n",
    "    def __iter__(self):\n",
    "        \"\"\"\n",
    "        Allows to iterate over the ants in the colony\n",
    "        :return: ---\n",
    "        \"\"\"\n",
    "        for ant in self.ants:\n",
    "            yield ant\n",
    "\n",
    "    def construct(self, visualization=False):\n",
    "        \"\"\"\n",
    "        Constructs ant solutions as long as all ants can take a further step.\n",
    "        :param visualization: whether intermediate results should be visualized\n",
    "        :return: ---\n",
    "        \"\"\"\n",
    "        while any(ant.step() for ant in self):\n",
    "            if visualization:\n",
    "                self.visualize()\n",
    "\n",
    "    def daemon(self):\n",
    "        \"\"\"\n",
    "        (Optionally) Daemon actions needed to print the information\n",
    "        :return: ---\n",
    "        \"\"\"\n",
    "        min_path, min_edges, min_length = min(((ant.path_nodes, ant.path_edges, ant.travel_dist)\n",
    "            for ant in self if ant.valid()), key=lambda t: t[2])\n",
    "        if self.min_length > min_length:\n",
    "            self.min_length = min_length\n",
    "            self.min_path = list(min_path)\n",
    "            self.min_edges = list(min_edges)\n",
    "\n",
    "    def update(self, F=lambda x: 1/x):\n",
    "        \"\"\"\n",
    "        Updates pheromone trails after all ants have finished their travels during one iteration.\n",
    "        :param F: function to create the multiplicative inverse of a given number\n",
    "        :return: ---\n",
    "        \"\"\"\n",
    "        ### add your code here\n"
   ]
  },
  {
   "cell_type": "markdown",
   "metadata": {},
   "source": [
    "To get the graph for your specific problem instance just call the ```Germany``` class which has been imported from ```graph.py```.\n",
    "You can now execute the following code. If everything works, after some time there should be a card displayed with the cities marked and connected. The darker the connection between two cities, the higher was the pheromone on that edge in the last iteration."
   ]
  },
  {
   "cell_type": "code",
   "execution_count": 125,
   "metadata": {
    "scrolled": false
   },
   "outputs": [
    {
     "ename": "AttributeError",
     "evalue": "'Ant' object has no attribute 'path_nodes'",
     "output_type": "error",
     "traceback": [
      "\u001b[1;31m---------------------------------------------------------------------------\u001b[0m",
      "\u001b[1;31mAttributeError\u001b[0m                            Traceback (most recent call last)",
      "Input \u001b[1;32mIn [125]\u001b[0m, in \u001b[0;36m<cell line: 20>\u001b[1;34m()\u001b[0m\n\u001b[0;32m     18\u001b[0m G \u001b[38;5;241m=\u001b[39m Germany(cities)\n\u001b[0;32m     19\u001b[0m C \u001b[38;5;241m=\u001b[39m AntColony(\u001b[38;5;241m20\u001b[39m, G, alpha\u001b[38;5;241m=\u001b[39m\u001b[38;5;241m3.0\u001b[39m, beta\u001b[38;5;241m=\u001b[39m\u001b[38;5;241m3.0\u001b[39m, rho\u001b[38;5;241m=\u001b[39m\u001b[38;5;241m0.1\u001b[39m, elitist\u001b[38;5;241m=\u001b[39m\u001b[38;5;28;01mFalse\u001b[39;00m)\n\u001b[1;32m---> 20\u001b[0m ant_path, ant_length, pheromone \u001b[38;5;241m=\u001b[39m \u001b[43mC\u001b[49m\u001b[43m(\u001b[49m\u001b[38;5;241;43m200\u001b[39;49m\u001b[43m)\u001b[49m\n\u001b[0;32m     21\u001b[0m G\u001b[38;5;241m.\u001b[39mvisualize()\n",
      "Input \u001b[1;32mIn [124]\u001b[0m, in \u001b[0;36mAntColony.__call__\u001b[1;34m(self, N)\u001b[0m\n\u001b[0;32m     45\u001b[0m     \u001b[38;5;66;03m# Let ants create their solution and update pheromones based on those\u001b[39;00m\n\u001b[0;32m     46\u001b[0m     \u001b[38;5;28mself\u001b[39m\u001b[38;5;241m.\u001b[39mconstruct()\n\u001b[1;32m---> 47\u001b[0m     \u001b[38;5;28;43mself\u001b[39;49m\u001b[38;5;241;43m.\u001b[39;49m\u001b[43mdaemon\u001b[49m\u001b[43m(\u001b[49m\u001b[43m)\u001b[49m\n\u001b[0;32m     48\u001b[0m     \u001b[38;5;28mself\u001b[39m\u001b[38;5;241m.\u001b[39mupdate()\n\u001b[0;32m     50\u001b[0m end \u001b[38;5;241m=\u001b[39m time()\n",
      "Input \u001b[1;32mIn [124]\u001b[0m, in \u001b[0;36mAntColony.daemon\u001b[1;34m(self)\u001b[0m\n\u001b[0;32m     72\u001b[0m \u001b[38;5;28;01mdef\u001b[39;00m \u001b[38;5;21mdaemon\u001b[39m(\u001b[38;5;28mself\u001b[39m):\n\u001b[0;32m     73\u001b[0m     \u001b[38;5;124;03m\"\"\"\u001b[39;00m\n\u001b[0;32m     74\u001b[0m \u001b[38;5;124;03m    (Optionally) Daemon actions needed to print the information\u001b[39;00m\n\u001b[0;32m     75\u001b[0m \u001b[38;5;124;03m    :return: ---\u001b[39;00m\n\u001b[0;32m     76\u001b[0m \u001b[38;5;124;03m    \"\"\"\u001b[39;00m\n\u001b[1;32m---> 77\u001b[0m     min_path, min_edges, min_length \u001b[38;5;241m=\u001b[39m \u001b[38;5;28;43mmin\u001b[39;49m\u001b[43m(\u001b[49m\u001b[43m(\u001b[49m\u001b[43m(\u001b[49m\u001b[43mant\u001b[49m\u001b[38;5;241;43m.\u001b[39;49m\u001b[43mpath_nodes\u001b[49m\u001b[43m,\u001b[49m\u001b[43m \u001b[49m\u001b[43mant\u001b[49m\u001b[38;5;241;43m.\u001b[39;49m\u001b[43mpath_edges\u001b[49m\u001b[43m,\u001b[49m\u001b[43m \u001b[49m\u001b[43mant\u001b[49m\u001b[38;5;241;43m.\u001b[39;49m\u001b[43mtravel_dist\u001b[49m\u001b[43m)\u001b[49m\n\u001b[0;32m     78\u001b[0m \u001b[43m        \u001b[49m\u001b[38;5;28;43;01mfor\u001b[39;49;00m\u001b[43m \u001b[49m\u001b[43mant\u001b[49m\u001b[43m \u001b[49m\u001b[38;5;129;43;01min\u001b[39;49;00m\u001b[43m \u001b[49m\u001b[38;5;28;43mself\u001b[39;49m\u001b[43m \u001b[49m\u001b[38;5;28;43;01mif\u001b[39;49;00m\u001b[43m \u001b[49m\u001b[43mant\u001b[49m\u001b[38;5;241;43m.\u001b[39;49m\u001b[43mvalid\u001b[49m\u001b[43m(\u001b[49m\u001b[43m)\u001b[49m\u001b[43m)\u001b[49m\u001b[43m,\u001b[49m\u001b[43m \u001b[49m\u001b[43mkey\u001b[49m\u001b[38;5;241;43m=\u001b[39;49m\u001b[38;5;28;43;01mlambda\u001b[39;49;00m\u001b[43m \u001b[49m\u001b[43mt\u001b[49m\u001b[43m:\u001b[49m\u001b[43m \u001b[49m\u001b[43mt\u001b[49m\u001b[43m[\u001b[49m\u001b[38;5;241;43m2\u001b[39;49m\u001b[43m]\u001b[49m\u001b[43m)\u001b[49m\n\u001b[0;32m     79\u001b[0m     \u001b[38;5;28;01mif\u001b[39;00m \u001b[38;5;28mself\u001b[39m\u001b[38;5;241m.\u001b[39mmin_length \u001b[38;5;241m>\u001b[39m min_length:\n\u001b[0;32m     80\u001b[0m         \u001b[38;5;28mself\u001b[39m\u001b[38;5;241m.\u001b[39mmin_length \u001b[38;5;241m=\u001b[39m min_length\n",
      "Input \u001b[1;32mIn [124]\u001b[0m, in \u001b[0;36m<genexpr>\u001b[1;34m(.0)\u001b[0m\n\u001b[0;32m     72\u001b[0m \u001b[38;5;28;01mdef\u001b[39;00m \u001b[38;5;21mdaemon\u001b[39m(\u001b[38;5;28mself\u001b[39m):\n\u001b[0;32m     73\u001b[0m     \u001b[38;5;124;03m\"\"\"\u001b[39;00m\n\u001b[0;32m     74\u001b[0m \u001b[38;5;124;03m    (Optionally) Daemon actions needed to print the information\u001b[39;00m\n\u001b[0;32m     75\u001b[0m \u001b[38;5;124;03m    :return: ---\u001b[39;00m\n\u001b[0;32m     76\u001b[0m \u001b[38;5;124;03m    \"\"\"\u001b[39;00m\n\u001b[0;32m     77\u001b[0m     min_path, min_edges, min_length \u001b[38;5;241m=\u001b[39m \u001b[38;5;28mmin\u001b[39m(((ant\u001b[38;5;241m.\u001b[39mpath_nodes, ant\u001b[38;5;241m.\u001b[39mpath_edges, ant\u001b[38;5;241m.\u001b[39mtravel_dist)\n\u001b[1;32m---> 78\u001b[0m         \u001b[38;5;28;01mfor\u001b[39;00m ant \u001b[38;5;129;01min\u001b[39;00m \u001b[38;5;28mself\u001b[39m \u001b[38;5;28;01mif\u001b[39;00m \u001b[43mant\u001b[49m\u001b[38;5;241;43m.\u001b[39;49m\u001b[43mvalid\u001b[49m\u001b[43m(\u001b[49m\u001b[43m)\u001b[49m), key\u001b[38;5;241m=\u001b[39m\u001b[38;5;28;01mlambda\u001b[39;00m t: t[\u001b[38;5;241m2\u001b[39m])\n\u001b[0;32m     79\u001b[0m     \u001b[38;5;28;01mif\u001b[39;00m \u001b[38;5;28mself\u001b[39m\u001b[38;5;241m.\u001b[39mmin_length \u001b[38;5;241m>\u001b[39m min_length:\n\u001b[0;32m     80\u001b[0m         \u001b[38;5;28mself\u001b[39m\u001b[38;5;241m.\u001b[39mmin_length \u001b[38;5;241m=\u001b[39m min_length\n",
      "Input \u001b[1;32mIn [123]\u001b[0m, in \u001b[0;36mAnt.__init__.<locals>.<lambda>\u001b[1;34m()\u001b[0m\n\u001b[0;32m     12\u001b[0m \u001b[38;5;28mself\u001b[39m\u001b[38;5;241m.\u001b[39mgraph \u001b[38;5;241m=\u001b[39m graph\n\u001b[0;32m     13\u001b[0m \u001b[38;5;28mself\u001b[39m\u001b[38;5;241m.\u001b[39mneighbours \u001b[38;5;241m=\u001b[39m \u001b[38;5;28;01mlambda\u001b[39;00m n: neighbors(\u001b[38;5;28mself\u001b[39m, n)\n\u001b[1;32m---> 14\u001b[0m \u001b[38;5;28mself\u001b[39m\u001b[38;5;241m.\u001b[39mvalid \u001b[38;5;241m=\u001b[39m \u001b[38;5;28;01mlambda\u001b[39;00m: \u001b[43mvalid\u001b[49m\u001b[43m(\u001b[49m\u001b[38;5;28;43mself\u001b[39;49m\u001b[43m)\u001b[49m\n\u001b[0;32m     15\u001b[0m \u001b[38;5;28mself\u001b[39m\u001b[38;5;241m.\u001b[39malpha \u001b[38;5;241m=\u001b[39m alpha\n\u001b[0;32m     16\u001b[0m \u001b[38;5;28mself\u001b[39m\u001b[38;5;241m.\u001b[39mbeta \u001b[38;5;241m=\u001b[39m beta\n",
      "Input \u001b[1;32mIn [124]\u001b[0m, in \u001b[0;36mAntColony.<lambda>\u001b[1;34m(a)\u001b[0m\n\u001b[0;32m      1\u001b[0m \u001b[38;5;28;01mclass\u001b[39;00m \u001b[38;5;21;01mAntColony\u001b[39;00m:\n\u001b[0;32m      2\u001b[0m     \u001b[38;5;28;01mdef\u001b[39;00m \u001b[38;5;21m__init__\u001b[39m(\u001b[38;5;28mself\u001b[39m, n_ants, graph, rho\u001b[38;5;241m=\u001b[39m\u001b[38;5;241m0.1\u001b[39m, alpha\u001b[38;5;241m=\u001b[39m\u001b[38;5;241m1\u001b[39m, beta\u001b[38;5;241m=\u001b[39m\u001b[38;5;241m1\u001b[39m,\n\u001b[0;32m      3\u001b[0m                  neighbors\u001b[38;5;241m=\u001b[39m\u001b[38;5;28;01mlambda\u001b[39;00m a, n: \u001b[38;5;28mlen\u001b[39m(a\u001b[38;5;241m.\u001b[39mgraph) \u001b[38;5;241m>\u001b[39m \u001b[38;5;28mlen\u001b[39m(a\u001b[38;5;241m.\u001b[39mpath_nodes) \u001b[38;5;129;01mand\u001b[39;00m n \u001b[38;5;129;01mnot\u001b[39;00m \u001b[38;5;129;01min\u001b[39;00m a\u001b[38;5;241m.\u001b[39mpath_nodes \n\u001b[0;32m      4\u001b[0m                                      \u001b[38;5;129;01mor\u001b[39;00m \u001b[38;5;28mlen\u001b[39m(a\u001b[38;5;241m.\u001b[39mgraph) \u001b[38;5;241m==\u001b[39m \u001b[38;5;28mlen\u001b[39m(a\u001b[38;5;241m.\u001b[39mpath_nodes) \u001b[38;5;129;01mand\u001b[39;00m n \u001b[38;5;241m==\u001b[39m a\u001b[38;5;241m.\u001b[39mpath_edges[\u001b[38;5;241m0\u001b[39m]\u001b[38;5;241m.\u001b[39msource,\n\u001b[1;32m----> 5\u001b[0m                  valid\u001b[38;5;241m=\u001b[39m\u001b[38;5;28;01mlambda\u001b[39;00m a: \u001b[38;5;28mlen\u001b[39m(\u001b[43ma\u001b[49m\u001b[38;5;241;43m.\u001b[39;49m\u001b[43mpath_nodes\u001b[49m) \u001b[38;5;241m==\u001b[39m \u001b[38;5;28mlen\u001b[39m(a\u001b[38;5;241m.\u001b[39mgraph) \u001b[38;5;241m+\u001b[39m \u001b[38;5;241m1\u001b[39m, elitist\u001b[38;5;241m=\u001b[39m\u001b[38;5;28;01mFalse\u001b[39;00m):\n\u001b[0;32m      6\u001b[0m         \u001b[38;5;124;03m\"\"\"\u001b[39;00m\n\u001b[0;32m      7\u001b[0m \u001b[38;5;124;03m        An ant colony consists of a given number of ants, a graph in which the ants travel and parameter information on\u001b[39;00m\n\u001b[0;32m      8\u001b[0m \u001b[38;5;124;03m        the algorithm: rho, alpha, and beta.\u001b[39;00m\n\u001b[1;32m   (...)\u001b[0m\n\u001b[0;32m     15\u001b[0m \u001b[38;5;124;03m        :param valid: a function that determines if ants have found a valid solution\u001b[39;00m\n\u001b[0;32m     16\u001b[0m \u001b[38;5;124;03m        \"\"\"\u001b[39;00m\n\u001b[0;32m     17\u001b[0m         \u001b[38;5;28mself\u001b[39m\u001b[38;5;241m.\u001b[39mn_ants \u001b[38;5;241m=\u001b[39m n_ants\n",
      "\u001b[1;31mAttributeError\u001b[0m: 'Ant' object has no attribute 'path_nodes'"
     ]
    },
    {
     "data": {
      "image/png": "[encoded data removed]",
      "text/plain": [
       "<Figure size 576x576 with 1 Axes>"
      ]
     },
     "metadata": {
      "needs_background": "light"
     },
     "output_type": "display_data"
    }
   ],
   "source": [
    "# Feel free to add or delete cities to this dictionary. The coordinates are based on the image 'osm_germany.png'.\n",
    "cities = {'Osnabrück': (235, 234),\n",
    "          'Hamburg': (324, 137),\n",
    "          'Hanover': (312, 226),\n",
    "          'Frankfurt': (264, 391),\n",
    "          'Munich': (396, 528),\n",
    "          'Berlin': (478, 215),\n",
    "          'Leipzig': (432, 302),\n",
    "          'Düsseldorf': (175, 310)}\n",
    "\n",
    "# Cities you could add:\n",
    "#           'Kassel': (302, 305),\n",
    "#           'Cottbus': (521, 274), \n",
    "#           'Bremen': (270, 173),\n",
    "#           'Karlsruhe': (251, 469),\n",
    "#           'Nürnberg': (373, 437),\n",
    "#           'Saarbrücken': (187, 452)\\\n",
    "G = Germany(cities)\n",
    "C = AntColony(20, G, alpha=3.0, beta=3.0, rho=0.1, elitist=False)\n",
    "ant_path, ant_length, pheromone = C(200)\n",
    "G.visualize() # TO USE THE VISUALIZATION METHOD EACH EDGE SHOULD HAVE ITS PHEROMONE VALUE SET"
   ]
  },
  {
   "cell_type": "markdown",
   "metadata": {},
   "source": [
    "### Task 2: Implement the Elitist Ant System\n",
    "\n",
    "As mentioned in the presentation, **Elistist Ant System** is an improvement of **Ant System**. The idea is, that the ant that took the best-so-far tour can add additional pheromone to the route.\n",
    "\n",
    "Your task now is to revisit the ```AntColony``` class and change the ```update``` function accordingly. The class variable self.elitist might help you differentiating **Ant System** and **Elitist Ant System** in this function.\n",
    "\n",
    "HINT 1: Take a closer look at the ```daemon``` function and figure out how you can make use of what happens there.\n",
    "\n",
    "HINT 2: You can vary how strongly the elitist ant update is weighted and see what works best."
   ]
  },
  {
   "cell_type": "code",
   "execution_count": 22,
   "metadata": {},
   "outputs": [
    {
     "ename": "TypeError",
     "evalue": "'module' object is not callable",
     "output_type": "error",
     "traceback": [
      "\u001b[1;31m---------------------------------------------------------------------------\u001b[0m",
      "\u001b[1;31mTypeError\u001b[0m                                 Traceback (most recent call last)",
      "Input \u001b[1;32mIn [22]\u001b[0m, in \u001b[0;36m<cell line: 3>\u001b[1;34m()\u001b[0m\n\u001b[0;32m      1\u001b[0m G \u001b[38;5;241m=\u001b[39m Germany(cities)\n\u001b[0;32m      2\u001b[0m C \u001b[38;5;241m=\u001b[39m AntColony(\u001b[38;5;241m20\u001b[39m, G, alpha\u001b[38;5;241m=\u001b[39m\u001b[38;5;241m3.0\u001b[39m, beta\u001b[38;5;241m=\u001b[39m\u001b[38;5;241m3.0\u001b[39m, rho\u001b[38;5;241m=\u001b[39m\u001b[38;5;241m0.1\u001b[39m, elitist\u001b[38;5;241m=\u001b[39m\u001b[38;5;28;01mTrue\u001b[39;00m)\n\u001b[1;32m----> 3\u001b[0m ant_path, ant_length, pheromone \u001b[38;5;241m=\u001b[39m \u001b[43mC\u001b[49m\u001b[43m(\u001b[49m\u001b[38;5;241;43m100\u001b[39;49m\u001b[43m)\u001b[49m\n\u001b[0;32m      4\u001b[0m G\u001b[38;5;241m.\u001b[39mvisualize()\n",
      "Input \u001b[1;32mIn [20]\u001b[0m, in \u001b[0;36mAntColony.__call__\u001b[1;34m(self, N)\u001b[0m\n\u001b[0;32m     28\u001b[0m \u001b[38;5;28;01mdef\u001b[39;00m \u001b[38;5;21m__call__\u001b[39m(\u001b[38;5;28mself\u001b[39m, N\u001b[38;5;241m=\u001b[39m\u001b[38;5;28;01mNone\u001b[39;00m):\n\u001b[0;32m     29\u001b[0m     \u001b[38;5;124;03m\"\"\"\u001b[39;00m\n\u001b[0;32m     30\u001b[0m \u001b[38;5;124;03m    Executes the ant colony optimization algorithm.\u001b[39;00m\n\u001b[0;32m     31\u001b[0m \u001b[38;5;124;03m    :param N: number of iterations\u001b[39;00m\n\u001b[0;32m     32\u001b[0m \u001b[38;5;124;03m    :param visualization: whether intermediate results should be visualized\u001b[39;00m\n\u001b[0;32m     33\u001b[0m \u001b[38;5;124;03m    :return: # TODO\u001b[39;00m\n\u001b[0;32m     34\u001b[0m \u001b[38;5;124;03m    \"\"\"\u001b[39;00m\n\u001b[1;32m---> 35\u001b[0m     start \u001b[38;5;241m=\u001b[39m \u001b[43mtime\u001b[49m\u001b[43m(\u001b[49m\u001b[43m)\u001b[49m\n\u001b[0;32m     36\u001b[0m     iterator \u001b[38;5;241m=\u001b[39m count() \u001b[38;5;28;01mif\u001b[39;00m N \u001b[38;5;129;01mis\u001b[39;00m \u001b[38;5;28;01mNone\u001b[39;00m \u001b[38;5;28;01melse\u001b[39;00m \u001b[38;5;28mrange\u001b[39m(N)\n\u001b[0;32m     37\u001b[0m     \u001b[38;5;28mself\u001b[39m\u001b[38;5;241m.\u001b[39mmin_length \u001b[38;5;241m=\u001b[39m \u001b[38;5;28mfloat\u001b[39m(\u001b[38;5;124m'\u001b[39m\u001b[38;5;124minf\u001b[39m\u001b[38;5;124m'\u001b[39m)\n",
      "\u001b[1;31mTypeError\u001b[0m: 'module' object is not callable"
     ]
    },
    {
     "data": {
      "image/png": "[encoded data removed]",
      "text/plain": [
       "<Figure size 576x576 with 1 Axes>"
      ]
     },
     "metadata": {
      "needs_background": "light"
     },
     "output_type": "display_data"
    }
   ],
   "source": [
    "G = Germany(cities)\n",
    "C = AntColony(20, G, alpha=3.0, beta=3.0, rho=0.1, elitist=True)\n",
    "ant_path, ant_length, pheromone = C(100)\n",
    "G.visualize()"
   ]
  },
  {
   "cell_type": "markdown",
   "metadata": {},
   "source": [
    "### Task 3:\n",
    "1. Report the results of Ant System and Elitist Ant System (write down some findings, and e.g. show the produced images)\n",
    "2. Try out different parameter values: What happens if you change alpha, beta, the evaporation rate *rho*, the number of ants, and the number of iterations?\n",
    "3. (Optionally) With the code below (```G.route()```), you can run a search algorithm that finds the shortest path in a graph. You can compare for different numbers of cities, how long it takes to run this search and how long it takes for **AntSystem** to find a good solution."
   ]
  },
  {
   "cell_type": "code",
   "execution_count": 15,
   "metadata": {},
   "outputs": [
    {
     "name": "stdout",
     "output_type": "stream",
     "text": [
      "Finished after 1.6632730960845947 seconds.\n"
     ]
    },
    {
     "data": {
      "image/png": "[encoded data removed]",
      "text/plain": [
       "<Figure size 576x576 with 1 Axes>"
      ]
     },
     "metadata": {
      "needs_background": "light"
     },
     "output_type": "display_data"
    }
   ],
   "source": [
    "import time\n",
    "\n",
    "# Initialize a graph with cities\n",
    "cities = {'Osnabrück': (235, 234),\n",
    "           'Hamburg': (324, 137),\n",
    "           'Hanover': (312, 226),\n",
    "           'Frankfurt': (264, 391),\n",
    "           'Munich': (396, 528),\n",
    "           'Berlin': (478, 215),\n",
    "           'Leipzig': (432, 302),\n",
    "           'Düsseldorf': (175, 310)}\n",
    "G = Germany(cities)\n",
    "\n",
    "# Time how long the search takes\n",
    "start = time.time()\n",
    "G.route()\n",
    "print(f'Finished after {time.time() - start} seconds.' )"
   ]
  },
  {
   "cell_type": "code",
   "execution_count": null,
   "metadata": {},
   "outputs": [],
   "source": []
  }
 ],
 "metadata": {
  "interpreter": {
   "hash": "2dc1d4bf8a7f47a46026872f46a8e8647be283309b190db9cb69ed4c9493c2c2"
  },
  "kernelspec": {
   "display_name": "Python 3",
   "language": "python",
   "name": "python3"
  },
  "language_info": {
   "codemirror_mode": {
    "name": "ipython",
    "version": 3
   },
   "file_extension": ".py",
   "mimetype": "text/x-python",
   "name": "python",
   "nbconvert_exporter": "python",
   "pygments_lexer": "ipython3",
   "version": "3.8.8"
  }
 },
 "nbformat": 4,
 "nbformat_minor": 4
}
