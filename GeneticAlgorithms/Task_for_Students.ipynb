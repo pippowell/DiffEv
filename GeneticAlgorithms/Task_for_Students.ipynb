{
 "cells": [
  {
   "cell_type": "markdown",
   "metadata": {
    "pycharm": {
     "name": "#%% md\n"
    }
   },
   "source": [
    "# Using Genetic Algorithms to Form Optimal Groups"
   ]
  },
  {
   "cell_type": "markdown",
   "metadata": {
    "pycharm": {
     "name": "#%% md\n"
    }
   },
   "source": [
    "We have all been in that situation. You have to do a group project in a class, and the lecturer assigns the groups randomly. You find yourself in a group with people you don’t know and end up doing all the work by yourself. We want to change that and want you to implement an Genetic Algorithm that optimizes groups.\n"
   ]
  },
  {
   "cell_type": "markdown",
   "metadata": {
    "pycharm": {
     "name": "#%% md\n"
    }
   },
   "source": [
    "## Task 1:\n"
   ]
  },
  {
   "cell_type": "markdown",
   "metadata": {
    "pycharm": {
     "name": "#%% md\n"
    }
   },
   "source": [
    "You have to implement the initial population, crossover, mutation, and fitness function. We divided it into smaller subtasks for you and implemented some of the functions for you. If you want to do your own implementation, feel free to ignore our hints and functions.\n",
    "\n",
    "Your initial population consists of 50 group distributions, where 100 students are assigned to 20 groups. Each student has a Student ID, a name, their spoken language, their 2 Majors (we assume everyone is doing their Masters), their ambition in the course, their preferred meeting place, their personality type, their gender, a friend that they want to be in a group with, and their preferred meeting day.\n",
    "\n",
    "To get you even more involved with the task, we want every member of your group to add their own person into the data. To do so, you simply have to execute the Jupyter Notebook named \"Dataset_Input.ipynb\". We are using the Myers-Briggs personality, which may not be the most scientific, but it for sure is entertaining. If you don’t know your type, you can take the test here (approx. 10 minutes) https://www.16personalities.com/free-personality-test. "
   ]
  },
  {
   "cell_type": "markdown",
   "metadata": {
    "pycharm": {
     "name": "#%% md\n"
    }
   },
   "source": [
    "Run this cell to load the packages:"
   ]
  },
  {
   "cell_type": "code",
   "execution_count": 2,
   "metadata": {
    "jupyter": {
     "outputs_hidden": false
    },
    "pycharm": {
     "name": "#%%\n"
    }
   },
   "outputs": [],
   "source": [
    "import numpy as np\n",
    "import random\n",
    "import pandas as pd\n",
    "import matplotlib as plt\n",
    "import ipywidgets\n",
    "import IPython\n",
    "from Generator import DataGenerator\n",
    "from typing import List"
   ]
  },
  {
   "cell_type": "markdown",
   "metadata": {
    "pycharm": {
     "name": "#%% md\n"
    }
   },
   "source": [
    "Execute this cell to create the dataset:"
   ]
  },
  {
   "cell_type": "code",
   "execution_count": 3,
   "metadata": {
    "jupyter": {
     "outputs_hidden": false
    },
    "pycharm": {
     "name": "#%%\n"
    }
   },
   "outputs": [
    {
     "name": "stdout",
     "output_type": "stream",
     "text": [
      "Please provide the number of participants: 10\n"
     ]
    }
   ],
   "source": [
    "generator = DataGenerator()\n",
    "\n",
    "#df, type_ = generator.create_basic()\n",
    "\n",
    "df, type_ = generator.create_full()\n",
    "\n",
    "df.to_csv(\"dataset_\" + type_ + \".csv\", encoding=\"utf-8-sig\", index=False)"
   ]
  },
  {
   "cell_type": "markdown",
   "metadata": {
    "pycharm": {
     "name": "#%% md\n"
    }
   },
   "source": [
    "Hyperparameters:"
   ]
  },
  {
   "cell_type": "code",
   "execution_count": 4,
   "metadata": {
    "jupyter": {
     "outputs_hidden": false
    },
    "pycharm": {
     "name": "#%%\n"
    }
   },
   "outputs": [
    {
     "data": {
      "text/html": [
       "<div>\n",
       "<style scoped>\n",
       "    .dataframe tbody tr th:only-of-type {\n",
       "        vertical-align: middle;\n",
       "    }\n",
       "\n",
       "    .dataframe tbody tr th {\n",
       "        vertical-align: top;\n",
       "    }\n",
       "\n",
       "    .dataframe thead th {\n",
       "        text-align: right;\n",
       "    }\n",
       "</style>\n",
       "<table border=\"1\" class=\"dataframe\">\n",
       "  <thead>\n",
       "    <tr style=\"text-align: right;\">\n",
       "      <th></th>\n",
       "      <th>ID</th>\n",
       "      <th>Name</th>\n",
       "      <th>Gender</th>\n",
       "      <th>Preferred language</th>\n",
       "      <th>Majors</th>\n",
       "      <th>Level of ambition</th>\n",
       "      <th>Preferred meeting place</th>\n",
       "      <th>Personality type</th>\n",
       "      <th>Best friend</th>\n",
       "      <th>Preferred day</th>\n",
       "    </tr>\n",
       "  </thead>\n",
       "  <tbody>\n",
       "    <tr>\n",
       "      <th>5</th>\n",
       "      <td>6</td>\n",
       "      <td>Christin Foerster</td>\n",
       "      <td>Female</td>\n",
       "      <td>Any</td>\n",
       "      <td>('CP', 'NI')</td>\n",
       "      <td>Very low</td>\n",
       "      <td>In person</td>\n",
       "      <td>ESFP</td>\n",
       "      <td>Marco Loewe</td>\n",
       "      <td>Wednesday</td>\n",
       "    </tr>\n",
       "    <tr>\n",
       "      <th>6</th>\n",
       "      <td>7</td>\n",
       "      <td>Nicole Fiedler</td>\n",
       "      <td>Female</td>\n",
       "      <td>English</td>\n",
       "      <td>('CL', 'CP')</td>\n",
       "      <td>High</td>\n",
       "      <td>In person</td>\n",
       "      <td>ENTP</td>\n",
       "      <td>Barbara Schuhmacher</td>\n",
       "      <td>Monday</td>\n",
       "    </tr>\n",
       "    <tr>\n",
       "      <th>7</th>\n",
       "      <td>8</td>\n",
       "      <td>Kevin Schröder</td>\n",
       "      <td>Male</td>\n",
       "      <td>Any</td>\n",
       "      <td>('AI', 'NI')</td>\n",
       "      <td>Low</td>\n",
       "      <td>In person</td>\n",
       "      <td>ESFJ</td>\n",
       "      <td>Sabrina Reinhardt</td>\n",
       "      <td>Wednesday</td>\n",
       "    </tr>\n",
       "    <tr>\n",
       "      <th>8</th>\n",
       "      <td>9</td>\n",
       "      <td>Jan Wulf</td>\n",
       "      <td>Male</td>\n",
       "      <td>Any</td>\n",
       "      <td>('NS', 'AI')</td>\n",
       "      <td>Medium</td>\n",
       "      <td>In person</td>\n",
       "      <td>ESFJ</td>\n",
       "      <td>Jessika Austerlitz</td>\n",
       "      <td>Friday</td>\n",
       "    </tr>\n",
       "    <tr>\n",
       "      <th>9</th>\n",
       "      <td>10</td>\n",
       "      <td>Andreas Jaeger</td>\n",
       "      <td>Male</td>\n",
       "      <td>Any</td>\n",
       "      <td>('NS', 'CP')</td>\n",
       "      <td>Very low</td>\n",
       "      <td>In person</td>\n",
       "      <td>ENTJ</td>\n",
       "      <td>Uwe Bader</td>\n",
       "      <td>Friday</td>\n",
       "    </tr>\n",
       "  </tbody>\n",
       "</table>\n",
       "</div>"
      ],
      "text/plain": [
       "   ID               Name  Gender Preferred language        Majors  \\\n",
       "5   6  Christin Foerster  Female                Any  ('CP', 'NI')   \n",
       "6   7     Nicole Fiedler  Female            English  ('CL', 'CP')   \n",
       "7   8     Kevin Schröder    Male                Any  ('AI', 'NI')   \n",
       "8   9           Jan Wulf    Male                Any  ('NS', 'AI')   \n",
       "9  10     Andreas Jaeger    Male                Any  ('NS', 'CP')   \n",
       "\n",
       "  Level of ambition Preferred meeting place Personality type  \\\n",
       "5          Very low               In person             ESFP   \n",
       "6              High               In person             ENTP   \n",
       "7               Low               In person             ESFJ   \n",
       "8            Medium               In person             ESFJ   \n",
       "9          Very low               In person             ENTJ   \n",
       "\n",
       "           Best friend Preferred day  \n",
       "5          Marco Loewe     Wednesday  \n",
       "6  Barbara Schuhmacher        Monday  \n",
       "7    Sabrina Reinhardt     Wednesday  \n",
       "8   Jessika Austerlitz        Friday  \n",
       "9            Uwe Bader        Friday  "
      ]
     },
     "execution_count": 4,
     "metadata": {},
     "output_type": "execute_result"
    }
   ],
   "source": [
    "students: pd.DataFrame = pd.read_csv(\"dataset_full.csv\")\n",
    "student_ids: List[int] = students.ID.tolist()\n",
    "\n",
    "# hyperparameters\n",
    "num_individuals: int = 100\n",
    "groupsize: int = 5\n",
    "# between 0 and 1\n",
    "mutation_rate: float = 0.05\n",
    "\n",
    "students.tail()"
   ]
  },
  {
   "cell_type": "markdown",
   "metadata": {
    "pycharm": {
     "name": "#%% md\n"
    }
   },
   "source": [
    "We create one random individual:"
   ]
  },
  {
   "cell_type": "code",
   "execution_count": 5,
   "metadata": {
    "pycharm": {
     "name": "#%%\n"
    }
   },
   "outputs": [
    {
     "name": "stdout",
     "output_type": "stream",
     "text": [
      "[7, 2, 5, 4, 8, 10, 6, 1, 9, 3]\n"
     ]
    }
   ],
   "source": [
    "def create_random_individual(student_ids: List[int]) -> List[int]:\n",
    "    #You don't need to do anything here.\n",
    "\n",
    "    individual = student_ids.copy()\n",
    "    random.shuffle(individual)\n",
    "\n",
    "    return individual\n",
    "\n",
    "print(create_random_individual(student_ids))"
   ]
  },
  {
   "cell_type": "markdown",
   "metadata": {
    "pycharm": {
     "name": "#%% md\n"
    }
   },
   "source": [
    "\n",
    "\n",
    "Create the initial population of 50 (=num_individuals) individuals:\n"
   ]
  },
  {
   "cell_type": "code",
   "execution_count": 6,
   "metadata": {
    "pycharm": {
     "name": "#%%\n"
    }
   },
   "outputs": [],
   "source": [
    "def create_initial_population(students: pd.DataFrame, groupsize: int) -> np.ndarray:\n",
    "    \n",
    "    return\n",
    "    np.array([create_random_individual(student_ids)] for n in range(allstudents))\n",
    "\n",
    "    #should return a numpy array of the whole population"
   ]
  },
  {
   "cell_type": "markdown",
   "metadata": {
    "pycharm": {
     "name": "#%% md\n"
    }
   },
   "source": [
    "We need a fitness function that computes how good the group distribution is. You have to take into consideration that we have many parameters that are not equally important and should therefore be differently weighted. We already coded some of the specific evaluation functions for the parameters for you. You have to implement the remaining evaluation functions. Think about what is desirable to have in a group and how you can calculate it. For example, you might have to change the data type of a parameter to make meaningful calculatons.\n",
    "\n",
    "At the end, you have to weigh all evaluation functions in one fitness function. "
   ]
  },
  {
   "cell_type": "code",
   "execution_count": 95,
   "metadata": {
    "pycharm": {
     "name": "#%%\n"
    }
   },
   "outputs": [],
   "source": [
    "# if everyone prefers the same language return 5, else return 0\n",
    "def evaluate_language(group: pd.DataFrame) -> float:\n",
    "    language = group['Preferred language'].value_counts()\n",
    "    \n",
    "    if language[0] == groupsize or language[0] + language[1] == groupsize or language[0] + language[2] == groupsize:\n",
    "        return 5\n",
    "    \n",
    "    return 0"
   ]
  },
  {
   "cell_type": "code",
   "execution_count": 96,
   "metadata": {
    "pycharm": {
     "name": "#%%\n"
    }
   },
   "outputs": [],
   "source": [
    "# the more majors the better, to collect all the knowledge\n",
    "# if every major is present return 5, else return the share of 5\n",
    "def evaluate_majors(group: pd.DataFrame) -> float:\n",
    "    majors = group['Majors'];\n",
    "    group_majors = [];\n",
    "    for individual_majors in majors:\n",
    "        for major in eval(individual_majors):\n",
    "            if major not in group_majors:\n",
    "                group_majors.append(major)\n",
    "    return len(group_majors)/7*5"
   ]
  },
  {
   "cell_type": "code",
   "execution_count": 97,
   "metadata": {
    "pycharm": {
     "name": "#%%\n"
    }
   },
   "outputs": [],
   "source": [
    "# keep people with similar ambition together so no one has to pull others through\n",
    "def evaluate_ambition(group: pd.DataFrame) -> float:\n",
    "    \n",
    "    ambitions = group['Level of ambition'].value_counts()\n",
    "    score = 0\n",
    "    vhigh = ambitions['Very high']\n",
    "    high = ambitions['High']\n",
    "    medium = ambitions['Medium']\n",
    "    low = ambitions['Low']\n",
    "    vlow = ambitions['Very low']\n",
    "    \n",
    "    if vhigh == groupsize or high == groupsize or medium == groupsize or low == groupsize or vlow == groupsize:\n",
    "        return 5\n",
    "    elif vhigh+high == groupsize or high+medium == groupsize or medium+low == groupsize or low+vlow == groupsize:\n",
    "        return 4\n",
    "    elif vhigh+high+medium == groupsize or high+medium+low == groupsize or medium+low+vlow:\n",
    "        return 3\n",
    "    elif vhigh+high+medium+low == groupsize or high+medium+low+vlow:\n",
    "        return 2\n",
    "    else:\n",
    "        return 0"
   ]
  },
  {
   "cell_type": "code",
   "execution_count": 98,
   "metadata": {
    "pycharm": {
     "name": "#%%\n"
    }
   },
   "outputs": [],
   "source": [
    "def evaluate_meeting_place(group: pd.DataFrame) -> float:\n",
    "    #You don't need to code anything in here.\n",
    "    #This is an example evaluation function.\n",
    "    \n",
    "    # number of groupmembers for each preferred meeting place\n",
    "    meeting_place = group['Preferred meeting place'].value_counts()\n",
    "\n",
    "    # if all prefer the same meeting place return 5, else 0\n",
    "    if meeting_place[0] == groupsize:\n",
    "        return 5\n",
    "\n",
    "    return 0"
   ]
  },
  {
   "cell_type": "code",
   "execution_count": 99,
   "metadata": {
    "pycharm": {
     "name": "#%%\n"
    }
   },
   "outputs": [],
   "source": [
    "# keep the gender balanced\n",
    "def evaluate_gender(group: pd.DataFrame) -> float:\n",
    "    gender = group['Gender'].value_counts()\n",
    "    # get the number of differences between participants of each gender & add them\n",
    "    dif = gender[0] - gender[1] + gender[0] - gender[2] + gender[1] - gender[2]\n",
    "    # 3 gender so max dif if everyone has the same is groupsize*2, subtract dif to punish same sex groups & divide by\n",
    "    # groupsize * multiply by five to get max val 5\n",
    "    return (groupsize*2-dif)/(groupsize*2)*5"
   ]
  },
  {
   "cell_type": "code",
   "execution_count": 100,
   "metadata": {
    "pycharm": {
     "name": "#%%\n"
    }
   },
   "outputs": [],
   "source": [
    "# return 5 if every friend is present, if one is not present the value goes down to 0 when no friend is present\n",
    "def evaluate_friends(group: pd.DataFrame) -> float:\n",
    "    friends = group['Best friend']\n",
    "    maxval = 5\n",
    "    for friend in friends:\n",
    "        if friend not in group['Name'].values:\n",
    "            maxval = maxval - (5/groupsize)\n",
    "    return maxval"
   ]
  },
  {
   "cell_type": "code",
   "execution_count": 101,
   "metadata": {
    "pycharm": {
     "name": "#%%\n"
    }
   },
   "outputs": [],
   "source": [
    "def evaluate_personality(group: pd.DataFrame) -> float:\n",
    "    #You dont need to change anything in here \n",
    "\n",
    "    #information about compatible personality types is taken from\n",
    "    # Montequín, Vicente Rodríguez, et al. \"Using Myers-Briggs type indicator (MBTI) as a tool for setting up student teams for information technology projects.\" Journal of Information Technology and Application in Education 1.1 (2012): 28-34.\n",
    "\n",
    "    #count existing personality types in each group\n",
    "    personalities = group['Personality type']\n",
    "    types = personalities.value_counts()\n",
    "\n",
    "    #fitness function starts with 0 and gets better\n",
    "    # with every good group member\n",
    "    fitness = 0\n",
    "\n",
    "    #its good if there is a group leader like an ISTJ or an ESTJ, but only one\n",
    "    try:\n",
    "        if (types['ISTJ'] + types['ESTJ'] == 1):\n",
    "            fitness+=5\n",
    "        elif (types['ISTJ'] + types['ESTJ'] >= 2):\n",
    "            fitness-=5\n",
    "    except KeyError:\n",
    "        pass\n",
    "\n",
    "    #compare compatibility of group members\n",
    "    for i, personality_a in enumerate(personalities.tolist()):\n",
    "        for j, personality_b in enumerate(personalities.tolist()):\n",
    "            # skip same group member and members already compared\n",
    "            if i <= j:\n",
    "                continue\n",
    "\n",
    "            # increase fitness if\n",
    "            if (personality_a[1] != personality_b[1]) ^ (personality_a[2] != personality_b[2]):\n",
    "                if (personality_a[0] != personality_b[0]) or (personality_a[3] != personality_b[3]):\n",
    "                    fitness+=1\n",
    "\n",
    "    return fitness"
   ]
  },
  {
   "cell_type": "code",
   "execution_count": 102,
   "metadata": {
    "pycharm": {
     "name": "#%%\n"
    }
   },
   "outputs": [],
   "source": [
    "# return 5 if everyone prefers the same day, else return 0\n",
    "def evaluate_meeting_day(group: pd.DataFrame) -> float:\n",
    "    meeting_day = group['Preferred day'].value_counts();\n",
    "    if meeting_day[0] == groupsize:\n",
    "        return 5\n",
    "\n",
    "    return 0"
   ]
  },
  {
   "cell_type": "markdown",
   "metadata": {
    "pycharm": {
     "name": "#%% md\n"
    }
   },
   "source": [
    "And now put everything together.\n",
    "The function is almost done, but remember to add the weights.\n",
    "\n",
    "In case you want to add hard constraints, feel free to do that in this function.\n",
    "\n"
   ]
  },
  {
   "cell_type": "code",
   "execution_count": 111,
   "metadata": {
    "pycharm": {
     "name": "#%%\n"
    }
   },
   "outputs": [],
   "source": [
    "def evaluate_fitness(individual: np.ndarray, students: pd.DataFrame):\n",
    "    # split individual into student groups of the groupsize\n",
    "    groups = np.array_split(individual, (len(individual)/groupsize))\n",
    "\n",
    "    # iterate over groups and calculate scores for the different parameters\n",
    "    scores = []\n",
    "    for group_ids in groups:\n",
    "        # get full data for students in this group from pd dataframe\n",
    "        group = students.loc[students['ID'].isin(group_ids)]\n",
    "\n",
    "        # get individual scores for parameters\n",
    "        # language is most important in my view, followed by meeting day, place and ambition, so I weighted accordingly\n",
    "        language_score = 4 * evaluate_language(group)\n",
    "        major_score = evaluate_majors(group)\n",
    "        ambition_score = 2 * evaluate_ambition(group)\n",
    "        place_score = 3 * evaluate_meeting_place(group)\n",
    "        gender_score = evaluate_gender(group)\n",
    "        friend_score = evaluate_friends(group)\n",
    "        personality_score = evaluate_personality(group)\n",
    "        day_score = 3 * evaluate_meeting_day(group)\n",
    "\n",
    "        # formula for adding and weighting different scores\n",
    "        scores.append(language_score+major_score+ambition_score+place_score+gender_score+friend_score+personality_score+day_score)\n",
    "\n",
    "    #Convert to series to calculate mean more easily\n",
    "    return pd.Series(scores).mean()\n",
    "    "
   ]
  },
  {
   "cell_type": "markdown",
   "metadata": {
    "pycharm": {
     "name": "#%% md\n"
    }
   },
   "source": [
    "Now, you have to code a crossover function, which takes 2 individuals based on their fitness function and produces a child from them. Use the tournament selection for parent selection.\n",
    "For the crossover, we want you to use the uniform crossover function with random templates. "
   ]
  },
  {
   "cell_type": "code",
   "execution_count": 112,
   "metadata": {
    "pycharm": {
     "name": "#%%\n"
    }
   },
   "outputs": [],
   "source": [
    "def tournament_selection(population: np.ndarray, tournament_size: int) -> List[np.ndarray]:\n",
    "    \n",
    "\n",
    "    #should return 2 parents as a list\n",
    "    pass\n"
   ]
  },
  {
   "cell_type": "markdown",
   "metadata": {
    "pycharm": {
     "name": "#%% md\n"
    }
   },
   "source": [
    "Use a boolean template in the length of the individual, this can be hardcoded or generated randomly every time to add more variance. On the places where the template is true use the genes from parent1, then take all the genes from parent2 that are not used and add them to the empty places in the child in the same order as they appear on parent2"
   ]
  },
  {
   "cell_type": "code",
   "execution_count": 113,
   "metadata": {
    "pycharm": {
     "name": "#%%\n"
    }
   },
   "outputs": [],
   "source": [
    "def uniform_order_crossover(parent1: np.ndarray, parent2: np.ndarray, template: np.ndarray) -> np.ndarray:\n",
    "    pass"
   ]
  },
  {
   "cell_type": "markdown",
   "metadata": {
    "pycharm": {
     "name": "#%% md\n"
    }
   },
   "source": [
    "The last thing you need is the mutation function. It should take the individual produced by the crossover function and mutate it with a chance of for example 5%. A mutation switches the assigned groups of 2 people. "
   ]
  },
  {
   "cell_type": "code",
   "execution_count": 114,
   "metadata": {
    "pycharm": {
     "name": "#%%\n"
    }
   },
   "outputs": [],
   "source": [
    "def mutation(individual: np.ndarray, mutation_rate: float) -> np.ndarray:\n",
    "    pass\n"
   ]
  },
  {
   "cell_type": "markdown",
   "metadata": {
    "pycharm": {
     "name": "#%% md\n"
    }
   },
   "source": [
    "You can now execute the code below and see if everything is working."
   ]
  },
  {
   "cell_type": "code",
   "execution_count": 115,
   "metadata": {
    "pycharm": {
     "name": "#%%\n"
    }
   },
   "outputs": [],
   "source": [
    "#episodes is the number of episodes after the algorithm stops\n",
    "#num_replace is the number of unfit individuals that will be replaced\n",
    "def genetic_algorithm(episodes: int, num_replace: int) -> np.ndarray:\n",
    "    \n",
    "    \n",
    "    \n",
    "    #visualization:\n",
    "    pass"
   ]
  },
  {
   "cell_type": "code",
   "execution_count": 116,
   "metadata": {
    "pycharm": {
     "name": "#%%\n"
    }
   },
   "outputs": [],
   "source": [
    "population = genetic_algorithm(20,2)"
   ]
  },
  {
   "cell_type": "markdown",
   "metadata": {
    "pycharm": {
     "name": "#%% md\n"
    }
   },
   "source": [
    "### Let's find your group or the one of a friend"
   ]
  },
  {
   "cell_type": "code",
   "execution_count": 143,
   "metadata": {
    "jupyter": {
     "outputs_hidden": false
    },
    "pycharm": {
     "name": "#%%\n"
    }
   },
   "outputs": [],
   "source": [
    "def get_groups_from_individual(individual: np.ndarray) -> List[np.ndarray]:\n",
    "    \"\"\" Returns a Python List of all Groups in an individual(as numpy ndarrays) \"\"\"\n",
    "    groups = pd.DataFrame()\n",
    "    for i in individual:\n",
    "        groups = pd.concat([groups, students.loc[students['ID'] == i]])\n",
    "\n",
    "    groups = groups.reset_index(drop=True)\n",
    "    nested_groups_list = []\n",
    "    for n,j in enumerate(range(0, len(groups), groupsize)):\n",
    "        nested_groups_list.append(pd.DataFrame(groups[j:j+groupsize]))\n",
    "    return nested_groups_list\n",
    "\n",
    "def get_groups_by_person_fullname(fullname: str, individual: np.ndarray) -> List[np.ndarray]:\n",
    "    \"\"\" Returns all Groups that got a Person with $fullname$ in given $individual$\"\"\"\n",
    "    nested_groups_list = get_groups_from_individual(individual)\n",
    "\n",
    "    groups_with_person = []\n",
    "    for group in nested_groups_list:\n",
    "        if fullname in group[\"Name\"].values:\n",
    "            groups_with_person.append(group)\n",
    "    return groups_with_person\n",
    "\n",
    "def get_group_by_person_ID(ID: int, individual: np.ndarray) -> np.ndarray:\n",
    "    \"\"\" Returns Group that has Person with given $ID$ in given $individual$\"\"\"\n",
    "    nested_groups_list = get_groups_from_individual(individual)\n",
    "    groups_with_person = []\n",
    "    for group in nested_groups_list:\n",
    "        if ID in group[\"ID\"].values:\n",
    "            return group\n",
    "    return None"
   ]
  },
  {
   "cell_type": "markdown",
   "metadata": {
    "pycharm": {
     "name": "#%% md\n"
    }
   },
   "source": [
    "\n",
    "#### Find your group by your Fullname"
   ]
  },
  {
   "cell_type": "code",
   "execution_count": 145,
   "metadata": {
    "jupyter": {
     "outputs_hidden": false
    },
    "pycharm": {
     "name": "#%%\n"
    }
   },
   "outputs": [
    {
     "name": "stdout",
     "output_type": "stream",
     "text": [
      "[     ID             Name  Gender Preferred language          Majors  \\\n",
      "75   48    Torsten Beyer  Female                Any  ('CP', 'PHIL')   \n",
      "76   72     Karolin Bach  Female                Any  ('CL', 'PHIL')   \n",
      "77   38   Heike Schwartz  Female                Any    ('NI', 'NS')   \n",
      "78  101      Donald Dump  Divers                Any    ('AI', 'NI')   \n",
      "79   61  Leon Zimmermann    Male            English  ('AI', 'PHIL')   \n",
      "\n",
      "   Level of ambition Preferred meeting place Personality type  \\\n",
      "75              High               In person             INTP   \n",
      "76               Low               In person             ENFJ   \n",
      "77               Low               In person             INFP   \n",
      "78            Medium                  Online             ENTP   \n",
      "79               Low               In person             ENTJ   \n",
      "\n",
      "             Best friend Preferred day  \n",
      "75  Florian Baumgaertner      Thursday  \n",
      "76     Michael Eberhardt     Wednesday  \n",
      "77        Karin Glockner      Thursday  \n",
      "78           Daniel Wulf        Monday  \n",
      "79    Sophia Weissmuller        Friday  ]\n"
     ]
    }
   ],
   "source": [
    "######### ATTENTION ##########\n",
    "# Define your individual here!!! At the moment it will take a random individual! Pick for example the fittest individual.\n",
    "individual = create_random_individual(student_ids)\n",
    "\n",
    "# User Input for the Full Name - Please be accurate!\n",
    "fullname = str(input(\"Please the Full-Name you want to look up: \"))\n",
    "# Get the group by your Full Name - If there are multiple Persons with your name you will get all of them\n",
    "my_group = get_groups_by_person_fullname(fullname, individual)\n",
    "# Plotting the first group found\n",
    "if my_group:\n",
    "    print(my_group)\n",
    "else:\n",
    "    print(\"Didn't find the requested Person with given Fullname\")"
   ]
  },
  {
   "cell_type": "markdown",
   "metadata": {
    "pycharm": {
     "name": "#%% md\n"
    }
   },
   "source": [
    "#### Find your group by your ID"
   ]
  },
  {
   "cell_type": "code",
   "execution_count": 146,
   "metadata": {
    "jupyter": {
     "outputs_hidden": false
    },
    "pycharm": {
     "name": "#%%\n"
    }
   },
   "outputs": [
    {
     "name": "stdout",
     "output_type": "stream",
     "text": [
      "     ID             Name  Gender Preferred language          Majors  \\\n",
      "75   48    Torsten Beyer  Female                Any  ('CP', 'PHIL')   \n",
      "76   72     Karolin Bach  Female                Any  ('CL', 'PHIL')   \n",
      "77   38   Heike Schwartz  Female                Any    ('NI', 'NS')   \n",
      "78  101      Donald Dump  Divers                Any    ('AI', 'NI')   \n",
      "79   61  Leon Zimmermann    Male            English  ('AI', 'PHIL')   \n",
      "\n",
      "   Level of ambition Preferred meeting place Personality type  \\\n",
      "75              High               In person             INTP   \n",
      "76               Low               In person             ENFJ   \n",
      "77               Low               In person             INFP   \n",
      "78            Medium                  Online             ENTP   \n",
      "79               Low               In person             ENTJ   \n",
      "\n",
      "             Best friend Preferred day  \n",
      "75  Florian Baumgaertner      Thursday  \n",
      "76     Michael Eberhardt     Wednesday  \n",
      "77        Karin Glockner      Thursday  \n",
      "78           Daniel Wulf        Monday  \n",
      "79    Sophia Weissmuller        Friday  \n"
     ]
    }
   ],
   "source": [
    "# Find your group by your ID\n",
    "my_group = get_group_by_person_ID(101, individual)\n",
    "# Plotting the group, if one found with given ID\n",
    "if my_group is not None:\n",
    "    print(my_group)\n",
    "else:\n",
    "    print(\"Didn't find the requested Person with given ID\")"
   ]
  },
  {
   "cell_type": "markdown",
   "metadata": {
    "pycharm": {
     "name": "#%% md\n"
    }
   },
   "source": [
    "## Task 2"
   ]
  },
  {
   "cell_type": "markdown",
   "metadata": {
    "pycharm": {
     "name": "#%% md\n"
    }
   },
   "source": [
    "Play around with the different values like initial population size, mutation rate, fitness function, and number of students and observe when it works the best. Write your insights down here."
   ]
  },
  {
   "cell_type": "markdown",
   "metadata": {
    "pycharm": {
     "name": "#%% md\n"
    }
   },
   "source": []
  }
 ],
 "metadata": {
  "interpreter": {
   "hash": "46024bae245c9f00600f83cce7f4f46f3134317cce6afc2ecf551c3e651ce5aa"
  },
  "kernelspec": {
   "display_name": "Python 3 (ipykernel)",
   "language": "python",
   "name": "python3"
  },
  "language_info": {
   "codemirror_mode": {
    "name": "ipython",
    "version": 3
   },
   "file_extension": ".py",
   "mimetype": "text/x-python",
   "name": "python",
   "nbconvert_exporter": "python",
   "pygments_lexer": "ipython3",
   "version": "3.7.1"
  }
 },
 "nbformat": 4,
 "nbformat_minor": 4
}
