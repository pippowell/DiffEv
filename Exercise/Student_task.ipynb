{
 "cells": [
  {
   "cell_type": "markdown",
   "metadata": {},
   "source": [
    "## Section 1: Create Your Own T-Rex!"
   ]
  },
  {
   "cell_type": "markdown",
   "metadata": {},
   "source": [
    "The T-Rex was one of the most famous (and most dangerous) dinosaurs to have existed on Earth. With individuals reaching weights as high as 14 metric tons, these predators were something to watch out for during their prime over 60 million years ago. Now, use Python and the power of Differential Evolution to bring these animals back to life and build the best apex predator you can (but do try to avoid any...Jurassic Park style incidents while you're at it).\n",
    "\n",
    "Let the evolution begin!"
   ]
  },
  {
   "cell_type": "code",
   "execution_count": 2,
   "metadata": {},
   "outputs": [],
   "source": [
    "import numpy as np\n",
    "import random as random"
   ]
  },
  {
   "cell_type": "markdown",
   "metadata": {},
   "source": [
    "## Task 1 - Create Your T-Rex!\n",
    "\n",
    "A real T-Rex would have been a complex animal with hundreds of parameters and variations that interacted with its environment and dictated how well it could survive. Here, we'll be starting our evolutionary exercise by creating a simplified version of the predator, with only 7 principle features - brain size, teeth size, height, weight, camouflage level, claw size, and aggression.\n",
    "\n",
    "Your Differential Evolution expert has reminded you that all calculations for this algorithm occur in a multi-dimensional vector space and that they'll need that taken into account when you create the mathematical representation of your Rex. They've left the specifics of that up to you though. They did recommend starting by defining a unit of measure for your features, and setting a few logical constraints. Thankfully, they've also provided you with some helpful info that might assist you in determining reasonable units and ranges:\n",
    "\n",
    "- brain size: An adult T-Rex had a brain size of up to approximately 1kg. That's actually only about 1 liter of water!\n",
    "- teeth size: T-Rex teeth could grow to be up to 30cm long. Dentists beware!\n",
    "- height: A T-Rex could grow to be taller than 3.5 meters just at the hips. Better raise the ceiling!\n",
    "- weight: A T-Rex is estimated to have weighed between 5.000 and 7.000 kg. That's nearly three African elephants!\n",
    "- camouflage level: Camouflage is hard to measure, but you might consider a handy percentage effectiveness measure here.\n",
    "- claw size: Though not as large as some of their teeth, a T-Rex claw could still grow to around 10cm long. A dangerous weapon!\n",
    "- aggression: T-Rex was an aggressive animal, but this would have varied by individual. A percentage might be useful here as well."
   ]
  },
  {
   "cell_type": "code",
   "execution_count": 3,
   "metadata": {
    "pycharm": {
     "name": "#%%\n"
    }
   },
   "outputs": [],
   "source": [
    "def createrex():\n",
    "\n",
    "    #define variables with random initial values for each of the features above\n",
    "    #return trex, a combined vector of the parameters\n",
    "    \n",
    "    brain_size = round(random.uniform(0.5,1),1)\n",
    "    teeth_size = round(random.uniform(10,30),1)\n",
    "    height = round(random.uniform(2,4),1)\n",
    "    weight = round(random.uniform(5,7),1)\n",
    "    camouflage_level = round(random.uniform(0,100),1)\n",
    "    claw_size = round(random.uniform(5,10),1)\n",
    "    aggression = round(random.uniform(0,100),1)\n",
    "\n",
    "    trex = [brain_size,teeth_size,height,weight,camouflage_level,claw_size,aggression]\n",
    "\n",
    "    return trex"
   ]
  },
  {
   "cell_type": "markdown",
   "metadata": {},
   "source": [
    "## Task 2 - Out of the Lab and Into the Wild\n",
    "Now that you have created your T-Rex, it's time to let it loose and see how well it survives! After all, we don't want to base our next round of evolutionary exploration on an individual that doesn't survive well in the wild.\n",
    "\n",
    "Need a hint? - Don't forget how you've stored your T-Rex's trait information..."
   ]
  },
  {
   "cell_type": "markdown",
   "metadata": {},
   "source": [
    "### 1.1 Fitness to Hunt\n",
    "\n",
    "Your T-Rex needs to be able to hunt for food. Some of its traits will help it out there, but others could prove a hindrance...\n",
    "\n",
    "Lukily, there is an abundant amount of large prey our T_Rex can rip into with their sharp teeth and claws. Though there is a problem as well. While the prey is quite docile it startels easily and unless you hide properly or tactically corner it, it's likely to escape or retaliate agressively.\n",
    "\n",
    "Hint: You most likely should use the traits teeth-size, claw-size, height, weight, brain-size (though we no brain-size and intelligence are not related imagine it so for this tasks sake :D) and aggression."
   ]
  },
  {
   "cell_type": "code",
   "execution_count": 51,
   "metadata": {},
   "outputs": [],
   "source": [
    "def fitness_hunt(trex : list) -> float:\n",
    "    '''\n",
    "    Evaluates the fitness of a T-Rex regarding its hunting apability.\n",
    "    Input: A list-like of float or int values representing the T-Rex dimensions.\\n\",\n",
    "    Returns: A fitness value as a float based on the input.\\n\",\n",
    "    '''\n",
    "    \n",
    "    # since we get a vector of all traits we split them into the individual values for visualizations sake.\n",
    "    intelligence = trex[0]\n",
    "    teeth = trex[1]\n",
    "    height = trex[2]\n",
    "    weight = trex[3]\n",
    "    claws = trex[5]\n",
    "    aggression = trex[6]\n",
    "    \n",
    "    ''' Hunting requires speed, claws and teeth, intelligence and the drive to fight '''\n",
    "    fitness = 100 # starts with a base fitness of 100\n",
    "\n",
    "\n",
    "    ''' Balanced weight and height are important to be able to tackle the large prey. '''\n",
    "    if (height > 3 and weight < 6) or (height <3 and  weight > 6):\n",
    "        fitness -= weight+height*0.5\n",
    "    else:\n",
    "        fitness += weight+height*0.5\n",
    "    \n",
    "    ''' To catch prey the T-Rex needs to run. The running capabilities of the dinosaur depend on the weight to height ratio.'''\n",
    "    \n",
    "    dinosaur_bmi = weight/height - 2 #the mean of this for all possible values should be around 2.08 so we substract 2\n",
    "    fitness += dinosaur_bmi * 10\n",
    "    \n",
    "    ''' Having caught our prey we need to kill it with our claws and teeth. \n",
    "    Just make sure they aren't to large for your body, you might hurt yourself!'''\n",
    "        \n",
    "    if (height < 3 and (teeth > 20 or claws > 9)):\n",
    "        fitness += (claws+teeth) * (1/height)\n",
    "    else:\n",
    "        fitness += claws+teeth\n",
    "        \n",
    "    ''' To hunt you need to be intelligent and ruthless in equal measures.\n",
    "    The more aggressive, the more likely the T-Rex is to mindlessly attack.\n",
    "    The more intelligent, the more likely the T-Rex is to plan their strategy. \n",
    "    Both are traits are needed, but only a good combination makes the hunt successful!'''\n",
    "    \n",
    "    balance = np.abs((intelligence*100)-aggression)\n",
    "      \n",
    "    if balance == 0 or balance == 100 or intelligence == 0 or aggression <= 10 or aggression == 100:\n",
    "        return 0 # RIP, they either are to dumb to catch prey, a pacifist or rip it to shreds leaving nothing to eat.\n",
    "    elif balance <= 25 or balance >= 75:\n",
    "        fitness -= 20\n",
    "    elif balance > 25 and balance < 75:\n",
    "        fitness += 10\n",
    "\n",
    "    return fitness\n",
    "    \n",
    "    ''' ADDITIONAL INFO: Testing on 10.000 random dinos reveals values between 0 an 159 with a mean of 106 '''"
   ]
  },
  {
   "cell_type": "markdown",
   "metadata": {},
   "source": [
    "### 1.2 Fitness to Fight\n",
    "\n",
    "Your T-Rex will sometimes need to fight other animals, whether over territory or simply to not lose the food it's worked so hard to hunt. Some of its traits will help it out there, but others could prove a hindrance...\n",
    "\n",
    "In general, it's always good to have your weapons and a plan on hand, if you want to defend what is yours. Size does not matter, as long as you're fast enough to strike.\n",
    "\n",
    "<details> <summary> Press for a hint </summary>\n",
    "    You most likely should use the traits teeth-size, claw-size, weight, brain-size (though we no brain-size and intelligence are not related imagine it so for this tasks sake :D) and aggression.\n",
    "</details>"
   ]
  },
  {
   "cell_type": "code",
   "execution_count": 58,
   "metadata": {},
   "outputs": [],
   "source": [
    "def fitness_fight(trex: list) -> float:\n",
    "    '''\n",
    "    Evaluates the fitness of a T-Rex regarding its fighting capability.\n",
    "    Input: A list-like of float or int values representing the T-Rex dimensions.\\n\",\n",
    "    Returns: A fitness value as a float based on the input.\\n\",\n",
    "    '''\n",
    "    # since we get a vector of all traits we split them into the individual values for visualizations sake.\n",
    "    intelligence = trex[0]\n",
    "    teeth = trex[1]\n",
    "    weight = trex[3]\n",
    "    claws = trex[5]\n",
    "    aggression = trex[6]\n",
    "    \n",
    "    fitness = 100\n",
    "    \n",
    "    '''To successfully defend what is yours, you need to be fast. Make sure all your hunting does not leave you fat and lazy!'''\n",
    "    if (weight > 6):\n",
    "        fitness -= weight\n",
    "    else:\n",
    "        fitness += weight\n",
    "        \n",
    "    ''' Having large sharp teeth and claws and knowing how to use them makes one a dangerous opponent'''\n",
    "    if (teeth > 20 or claws > 9) and intelligence >= 0.7:\n",
    "        fitness += (teeth+claws)*intelligence\n",
    "    else:\n",
    "        fitness += np.abs(teeth-claws)*intelligence     \n",
    "    \n",
    "    ''' To fight you need to be intelligent and ruthless in equal measures.\n",
    "    The more aggressive, the more likely the T-Rex is to mindlessly attack.\n",
    "    The more intelligent, the more likely the T-Rex is to plan their strategy. '''\n",
    "    \n",
    "    balance = np.abs((intelligence*100)-aggression)\n",
    "      \n",
    "    if balance == 0 or balance == 100 or intelligence == 0 or aggression <= 10:\n",
    "        return 0 # RIP, they either are to dumb to fight or a pacifist or both\n",
    "    elif aggression >= 95:\n",
    "        fitness += 20\n",
    "    elif balance <= 25 or balance >= 75:\n",
    "        fitness -= 10\n",
    "    elif balance > 25 and balance < 75:\n",
    "        fitness += 10\n",
    "        \n",
    "    return fitness\n",
    "    ''' ADDITIONAL INFO: Testing on 10.000 random dinos reveals values between 0 and 163 with a mean of 104 '''"
   ]
  },
  {
   "cell_type": "markdown",
   "metadata": {},
   "source": [
    "### 1.3 Fitness to Flee\n",
    "\n",
    "Even a T-Rex will sometimes need to make a quick getaway if it (ahem) bites off more than it can chew. Some of its traits will help it out there, but others could prove a hindrance...\n",
    "\n",
    "When fleeing several different factors of the physiology may be beneficial or detrimental.\n",
    " * A T-Rex with longer claws and a sizable brain may find it easier to climb a tree to get away, if they are not too heavy that is.\n",
    " * Having camouflage increases the chance to successfully get lost, however, being too tall may negate some of that advantage.\n",
    " * Being too aggressive may lead to not fleeing fast enough and getting injured too much before running away.\n",
    " * The running capability of a T-Rex depends on its weight to height ratio as well, even if it is all muscles it can make them slower."
   ]
  },
  {
   "cell_type": "code",
   "execution_count": 6,
   "metadata": {},
   "outputs": [],
   "source": [
    "def fitness_flee(trex : list) -> float:\n",
    "    \"\"\"\n",
    "    Evaluates the fitness of a T-Rex regarding running capability.\n",
    "    Input: A list-like of float or int values representing the T-Rex dimensions.\n",
    "    Returns: A fitness value as a float based on the input.\n",
    "    \"\"\"\n",
    "    \n",
    "    brain_size = trex[0]\n",
    "    teeth_size = trex[1]\n",
    "    height = trex[2]\n",
    "    weight = trex[3]\n",
    "    camouflage_level = trex[4]\n",
    "    claw_size = trex[5]\n",
    "    aggression = trex[6]\n",
    "    \n",
    "    '''Fleeing requires speed, camouflage, climbing ability and a lower aggressiveness tendancy'''\n",
    "    fitness = 100 #starts with a base fitness of 100\n",
    "    \n",
    "    '''If the dinosaur is not too heavy and has good claws and intelligence, then it may climb a tree successfully.'''\n",
    "    if claw_size >= 7 and brain_size >= 0.7 and weight <= 5.5:\n",
    "        fitness += 2*claw_size*brain_size\n",
    "    \n",
    "    '''If the dinosaur is smaller and has good camouflage it may get far enough away to get lost.'''\n",
    "    if height <= 3:\n",
    "        fitness += camouflage_level*0.1\n",
    "    else:\n",
    "        fitness += camouflage_level*0.1-height\n",
    "        \n",
    "    '''The more aggressive a dinosaur is the less likely it is to flee, even when it is the right call.'''\n",
    "    if aggression >= 50 and aggression < 75:\n",
    "        fitness -= 10\n",
    "    elif aggression >= 75 and aggression < 100:\n",
    "        fitness -= 30\n",
    "    elif aggression == 100:\n",
    "        return 0 # RIP, they really should have fled\n",
    "    \n",
    "    '''The running capabilities of the dinosaur depend on the weight to height ratio.'''\n",
    "    dinosaur_bmi = weight/height - 2 #the mean of this for all possible values should be around 2.08 so we substract 2\n",
    "    fitness += dinosaur_bmi * 10\n",
    "    \n",
    "    '''ADDITIONAL INFO: Testing this function on 10.000 random dinosaurs reveals a assigned range from 58-134 fitness, the mean being 95.'''\n",
    "    \n",
    "    return fitness"
   ]
  },
  {
   "cell_type": "markdown",
   "metadata": {},
   "source": [
    "### Overall Fitness\n",
    "\n",
    "For technical reasons, your Differential Evolution expert would prefer you assembled your T-Rex's fitness scores into one convenient overall fitness score that they can use in their evaluations. Higher scores should mean higher chances of survival and a greater level of success in the wild."
   ]
  },
  {
   "cell_type": "code",
   "execution_count": 7,
   "metadata": {},
   "outputs": [],
   "source": [
    "def fitness(trex):\n",
    "\n",
    "    # TODO: Combine results of the three fitness functions into one coherent function\n",
    "    return fitness_flee(trex) + fitness_fight(trex) + fitness_hunt(trex)\n",
    "    "
   ]
  },
  {
   "cell_type": "markdown",
   "metadata": {},
   "source": [
    "## Task 3: The More, The Merrier\n",
    "\n",
    "Congratulations! You've created a T-Rex and tested it in the wild. But in order to find the *best* T-Rex, we'll of course need more than one. Create a population of T-Rex's so we can let nature take its course and create the best one."
   ]
  },
  {
   "cell_type": "code",
   "execution_count": 8,
   "metadata": {},
   "outputs": [],
   "source": [
    "def create_population(pop_size):\n",
    "    \n",
    "    population = []\n",
    "\n",
    "    for i in range(pop_size):\n",
    "        population.append(createrex())\n",
    "        \n",
    "    return population"
   ],
   "metadata": {
    "collapsed": false,
    "pycharm": {
     "name": "#%%\n"
    }
   }
  },
  {
   "cell_type": "markdown",
   "metadata": {},
   "source": [
    "## Task 4: Evolution Requires Preparation\n",
    "\n",
    "Now that we can create a single T-Rex, and a population of T-Rex's, it's time to use our powers of Differential Evolution to build the best Rex possible. We'll need to start by taking care of a few niggling details your Differential Evolution expert has requested you address before the real fun begins."
   ]
  },
  {
   "cell_type": "markdown",
   "metadata": {},
   "source": [
    "### Mutation\n",
    "\n",
    "As you learned in the presentation, mutation is a key step in the Differential Evolution algorithm. Go ahead and program it here so we have it on hand later.\n"
   ]
  },
  {
   "cell_type": "code",
   "execution_count": 1,
   "metadata": {},
   "outputs": [],
   "source": [
    "def mutation(mutating_dino_index, dino_population, mutation_factor):\n",
    "    # get 3 random vectors from the population to mutate with\n",
    "    idxs = [idx for idx in range(len(dino_population)) if idx != mutating_dino_index]\n",
    "    selected = np.random.choice(idxs, 3, replace=False)\n",
    "    a = dino_population[selected[0]]\n",
    "    b = dino_population[selected[1]]\n",
    "    c = dino_population[selected[2]]\n",
    "    \n",
    "    # mutate the dino\n",
    "    mutant_dino = np.array(a) + mutation_factor * (np.array(b) - np.array(c))\n",
    "    \n",
    "    # normalize mutated dino to a vector of 0 to 1\n",
    "    mutant_dino = (mutant_dino - mutant_dino.min())/ (mutant_dino.max() - mutant_dino.min())\n",
    "    \n",
    "    return list(mutant_dino)\n",
    "\n"
   ]
  },
  {
   "cell_type": "markdown",
   "metadata": {},
   "source": [
    "### Crossover\n",
    "\n",
    "Another important function you'll remember from the presentation is crossover. Go ahead and implement this function here as well so we have it on hand later."
   ]
  },
  {
   "cell_type": "code",
   "execution_count": 1,
   "metadata": {},
   "outputs": [],
   "source": [
    "def cross_over(mutated_dino, target_dino, crossover_rate):\n",
    "    # create cross of mutated dino & target dino\n",
    "    i = np.random.randint(1, len(target_dino))-1;\n",
    "    cross_points = np.random.rand(len(target_dino)) < crossover_rate\n",
    "    cross_points[i] = True\n",
    "    trial_dino = np.where(cross_points, mutated_dino, target_dino)\n",
    "    \n",
    "    return list(trial_dino);"
   ]
  },
  {
   "cell_type": "markdown",
   "metadata": {},
   "source": [
    "### Selection\n",
    "\n",
    "After Mutation and Crossover have created a new candidate for our T-Rex Population, we first need to check if these new Genes would give our T-Rex a survival advantage over the previous one."
   ]
  },
  {
   "cell_type": "code",
   "execution_count": 39,
   "metadata": {
    "pycharm": {
     "name": "#%%\n"
    }
   },
   "outputs": [],
   "source": [
    "def selection(trial_dino, target_dino_id, population):\n",
    "    if fitness(trial_dino) < fitness(population[target_dino_id]):\n",
    "        population[target_dino_id] = trial_dino"
   ]
  },
  {
   "cell_type": "markdown",
   "metadata": {
    "pycharm": {
     "name": "#%% md\n"
    }
   },
   "source": [
    "## Task 5: Evolve Your T-Rex!"
   ]
  },
  {
   "cell_type": "code",
   "execution_count": 40,
   "metadata": {
    "pycharm": {
     "name": "#%%\n"
    }
   },
   "outputs": [],
   "source": [
    "def evolve_rex(crossover_rate, generations, pop_size, mutation_factor):\n",
    "\n",
    "    population = create_population(pop_size)\n",
    "    for j in range(generations):\n",
    "        min = population[0]\n",
    "        for i in range(pop_size):\n",
    "            mutant = mutation(i, population, mutation_factor)\n",
    "            trial = cross_over(mutant, population[i], crossover_rate)\n",
    "            selection(trial, i, population)\n",
    "            if i>0:\n",
    "                if fitness(population[i])<fitness(population[i-1]):\n",
    "                    min = population[i]\n",
    "        print(min)\n",
    "            \n",
    "    return min\n"
   ]
  },
  {
   "cell_type": "code",
   "execution_count": 42,
   "outputs": [
    {
     "name": "stdout",
     "output_type": "stream",
     "text": [
      "[0.3, 0.0, 1.0, 1.0, 1.0, 1.0, 0.0]\n",
      "[0.5375000000000001, 1.0, 1.0, 1.0, 0.5, 1.0, 1.0]\n",
      "[0.11875000000000008, 1.0, 0.8, 0.25, 0.5, 1.0, 1.0]\n",
      "[0.11875000000000008, 1.0, 0.8, 0.25, 0.5, 1.0, 1.0]\n"
     ]
    },
    {
     "name": "stderr",
     "output_type": "stream",
     "text": [
      "/tmp/ipykernel_8176/1629342915.py:38: RuntimeWarning: divide by zero encountered in double_scalars\n",
      "  dinosaur_bmi = weight/height - 2 #the mean of this for all possible values should be around 2.08 so we substract 2\n",
      "/tmp/ipykernel_8176/1007566650.py:28: RuntimeWarning: divide by zero encountered in double_scalars\n",
      "  dinosaur_bmi = weight/height - 2 #the mean of this for all possible values should be around 2.08 so we substract 2\n"
     ]
    }
   ],
   "source": [
    "best_rex = evolve_rex(crossover_rate=0.8, generations=3, pop_size=30, mutation_factor=0.5)\n",
    "\n",
    "print(best_rex)"
   ],
   "metadata": {
    "collapsed": false,
    "pycharm": {
     "name": "#%%\n"
    }
   }
  },
  {
   "cell_type": "markdown",
   "metadata": {},
   "source": [
    "## Task 6: Write Up!\n",
    "\n",
    "Whew! That was a lot of work! Well, for the algorithm anyway. A representative from a company you've forgotten the name of right now (was it EnGin? InTen? Oh, nevermind) has reached out to you and asked for a report on your observations from your experiment, for reasons they'd rather not disclose apparently. They seem particularly interested in how changing various parameters might affect the process. Go ahead and play around with your algorithm a bit (perhaps you'd like to try out different population sizes or tweak your fitness function?) to generate an answer for them. Turns out your lab has an email template you can use, so all you'll need to do is plug in your observations and hope they're not used for anything...potentially problematic.\n",
    "\n",
    "(Hint - Your lab recently genetically engineered species #5698, which your team is currently calling \"Bonus Point.\" A few of those might have escaped, but if you come up with a sufficiently interesting name for yourself in the report, they might just decide to come back and help you out.)"
   ]
  },
  {
   "cell_type": "markdown",
   "metadata": {},
   "source": [
    "From: BestResearcherEver (bre@uni-osnabrueck.de)\n",
    "To: NotAMadScientist (research@ingen.jp)\n",
    "\n",
    "Dear InGen Research Team,\n",
    "\n",
    "Pursuant to your request for further data on the effect of parameter manipulation in our Differential Evolution experiment with species #1475, Tyrannosaurus rex, the following is a brief report on my observations:\n",
    "\n",
    "**Your Answer Here**\n",
    "\n",
    "Sincerely,\n",
    "BestResearcherEver"
   ]
  },
  {
   "cell_type": "markdown",
   "metadata": {},
   "source": [
    "## Section 2: Dino Dating\n",
    "\n",
    "So you think you can design the best dinosaur, eh? Well, you've created a pretty hearty T-Rex there, but it won't get very far if no one wants to take it out to the dance. Let's see how your top predator survives its next big challenge, Germany's latest top hit prehistoric TV show - DinoDating!\n",
    "\n",
    "This section is just for fun. You don't actually have to code anything, just plug in your best Rex and see how it fares.\n",
    "\n",
    "Normally the judges don't like to share their scoring criteria, but since this is an academic exercise, they bent the rules this once.\n",
    "\n",
    "(lower limit - upper limit) - Ooh La La!\n",
    "(lower limit - upper limit) - Dateable\n",
    "(lower limit - upper limit) - In The Right Clothes, Maybe...\n",
    "(lower limit - upper limit) - Well, no takers now, but take some time to become your best self and try again later. :)"
   ]
  },
  {
   "cell_type": "code",
   "execution_count": 37,
   "outputs": [
    {
     "name": "stdout",
     "output_type": "stream",
     "text": [
      "done.\n"
     ]
    }
   ],
   "source": [
    "# test your algorithm to create the perfect dating dino!\n",
    "\n",
    "from dino_dating import dating_fitness\n",
    "\n",
    "print('done.')"
   ],
   "metadata": {
    "collapsed": false,
    "pycharm": {
     "name": "#%%\n"
    }
   }
  }
 ],
 "metadata": {
  "kernelspec": {
   "display_name": "Python 3",
   "language": "python",
   "name": "python3"
  },
  "language_info": {
   "codemirror_mode": {
    "name": "ipython",
    "version": 3
   },
   "file_extension": ".py",
   "mimetype": "text/x-python",
   "name": "python",
   "nbconvert_exporter": "python",
   "pygments_lexer": "ipython3",
   "version": "3.8.8"
  }
 },
 "nbformat": 4,
 "nbformat_minor": 4
}
