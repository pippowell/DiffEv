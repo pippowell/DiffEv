{
 "cells": [
  {
   "cell_type": "markdown",
   "metadata": {
    "pycharm": {
     "name": "#%% md\n"
    }
   },
   "source": [
    "## Section 1: Create Your Own T-Rex!"
   ]
  },
  {
   "cell_type": "markdown",
   "metadata": {
    "pycharm": {
     "name": "#%% md\n"
    }
   },
   "source": [
    "The T-Rex was one of the most famous (and most dangerous) dinosaurs to have existed on Earth. With individuals reaching weights as high as 14 metric tons, these predators were something to watch out for during their prime over 60 million years ago. Now, use Python and the power of Differential Evolution to bring these animals back to life and build the best apex predator you can (but do try to avoid any ... Jurassic Park style incidents while you're at it).\n",
    "\n",
    "Let the evolution begin!"
   ]
  },
  {
   "cell_type": "code",
   "execution_count": 60,
   "metadata": {
    "pycharm": {
     "name": "#%%\n"
    }
   },
   "outputs": [],
   "source": [
    "import numpy as np\n",
    "import random as random"
   ]
  },
  {
   "cell_type": "markdown",
   "metadata": {
    "pycharm": {
     "name": "#%% md\n"
    }
   },
   "source": [
    "## Task 1 - Create Your T-Rex!\n",
    "\n",
    "A real T-Rex would have been a complex animal with hundreds of parameters and variations that interacted with its environment and dictated how well it could survive. Here, we'll be starting our evolutionary exercise by creating a simplified version of the predator, with only 7 principle features - brain size, teeth size, height, weight, camouflage level, claw size, and aggression.\n",
    "\n",
    "Your Differential Evolution expert has reminded you that all calculations for this algorithm occur in a multi-dimensional vector space and that they'll need that taken into account when you create the mathematical representation of your Rex. They've left the specifics of that up to you though. They did recommend starting by defining a unit of measure for your features, and setting a few logical constraints. Thankfully, they've also provided you with some helpful info that might assist you in determining reasonable units and ranges:\n",
    "\n",
    "- brain size: An adult T-Rex had a brain size of up to approximately 1kg. That's actually only about 1 liter of water!\n",
    "- teeth size: T-Rex teeth could grow to be up to 30cm long. Dentists beware!\n",
    "- height: A T-Rex could grow to be taller than 3.5 meters just at the hips. Better raise the ceiling!\n",
    "- weight: A T-Rex is estimated to have weighed between 5.000 and 7.000 kg. That's nearly three African elephants!\n",
    "- camouflage level: Camouflage is hard to measure, but you might consider a handy percentage effectiveness measure here.\n",
    "- claw size: Though not as large as some of their teeth, a T-Rex claw could still grow to around 10cm long. A dangerous weapon!\n",
    "- aggression: T-Rex was an aggressive animal, but this would have varied by individual. A percentage might be useful here as well."
   ]
  },
  {
   "cell_type": "code",
   "execution_count": 61,
   "outputs": [],
   "source": [
    "def create_rex() -> list:\n",
    "    \"\"\"\n",
    "    Should create a T-Rex with random values for brain size, teeth size, height, weight, camouflage level, claw size, aggression.\n",
    "    :return: list, a random vector representing a T-Rex\n",
    "    \"\"\"\n",
    "\n",
    "    #define variables with random initial values for each of the features above\n",
    "    brain_size = round(random.uniform(0.5,1),1)\n",
    "    teeth_size = round(random.uniform(10,30),1)\n",
    "    height = round(random.uniform(2,4),1)\n",
    "    weight = round(random.uniform(5,7),1)\n",
    "    camouflage_level = round(random.uniform(0,100),1)\n",
    "    claw_size = round(random.uniform(5,10),1)\n",
    "    aggression = round(random.uniform(0,100),1)\n",
    "\n",
    "    #return trex, a combined vector of the parameters\n",
    "    trex = [brain_size,teeth_size,height,weight,camouflage_level,claw_size,aggression]\n",
    "\n",
    "    return trex"
   ],
   "metadata": {
    "collapsed": false,
    "pycharm": {
     "name": "#%%\n"
    }
   }
  },
  {
   "cell_type": "markdown",
   "source": [
    "## Task 2 - Out of the Lab and Into the Wild\n",
    "Now that you have created your T-Rex, it's time to let it loose and see how well it survives! After all, we don't want to base our next round of evolutionary exploration on an individual that doesn't survive well in the wild.\n",
    "\n",
    "Need a hint? - Don't forget how you've stored your T-Rex's trait information..."
   ],
   "metadata": {
    "collapsed": false,
    "pycharm": {
     "name": "#%% md\n"
    }
   }
  },
  {
   "cell_type": "markdown",
   "source": [
    "### 1.1 Fitness to Hunt\n",
    "\n",
    "Your T-Rex needs to be able to hunt for food. Some of its traits will help it out there, but others could prove a hindrance...\n",
    "\n",
    "Lukily, there is an abundant amount of large prey our T_Rex can rip into with their sharp teeth and claws. Though there is a problem as well. While the prey is quite docile it startels easily and unless you hide properly or tactically corner it, it's likely to escape or retaliate agressively.\n",
    "\n",
    "Hint: You most likely should use the traits teeth-size, claw-size, height, weight, brain-size (though we no brain-size and intelligence are not related imagine it so for this tasks sake :D) and aggression."
   ],
   "metadata": {
    "collapsed": false,
    "pycharm": {
     "name": "#%% md\n"
    }
   }
  },
  {
   "cell_type": "code",
   "execution_count": 62,
   "outputs": [],
   "source": [
    "def fitness_hunt(trex : list) -> float:\n",
    "    \"\"\"\n",
    "    Evaluates the fitness of a T-Rex regarding its hunting capability.\n",
    "    :param trex: list, a vector representing the T-Rex,\n",
    "    :return: float, hunting fitness value of the T-Rex\n",
    "    \"\"\"\n",
    "    \n",
    "    # since we get a vector of all traits we split them into the individual values for visualizations sake.\n",
    "    [brain_size, teeth_size, height, weight, camouflage_level, claw_size, aggression] = trex\n",
    "\n",
    "    ''' Hunting requires speed, claws and teeth, intelligence and the drive to fight '''\n",
    "    fitness = 100 # starts with a base fitness of 100\n",
    "\n",
    "\n",
    "    ''' Balanced weight and height are important to be able to tackle the large prey. '''\n",
    "    if (height > 3 and weight < 6) or (height <3 and  weight > 6):\n",
    "        fitness -= weight+height*0.5\n",
    "    else:\n",
    "        fitness += weight+height*0.5\n",
    "    \n",
    "    ''' To catch prey the T-Rex needs to run. The running capabilities of the dinosaur depend on the weight to height ratio.'''\n",
    "    \n",
    "    dinosaur_bmi = weight/height - 2 #the mean of this for all possible values should be around 2.08 so we substract 2\n",
    "    fitness += dinosaur_bmi * 10\n",
    "    \n",
    "    ''' Having caught our prey we need to kill it with our claws and teeth. \n",
    "    Just make sure they aren't to large for your body, you might hurt yourself!'''\n",
    "        \n",
    "    if (height < 3 and (teeth_size > 20 or claw_size > 9)):\n",
    "        fitness += (claw_size+teeth_size) * (1/height)\n",
    "    else:\n",
    "        fitness += claw_size+teeth_size\n",
    "        \n",
    "    ''' To hunt you need to be intelligent and ruthless in equal measures.\n",
    "    The more aggressive, the more likely the T-Rex is to mindlessly attack.\n",
    "    The more intelligent, the more likely the T-Rex is to plan their strategy. \n",
    "    Both are traits are needed, but only a good combination makes the hunt successful!'''\n",
    "    \n",
    "    balance = np.abs((brain_size*100)-aggression)\n",
    "      \n",
    "    if balance == 0 or balance == 100 or brain_size == 0 or aggression <= 10 or aggression == 100:\n",
    "        return 0 # RIP, they either are to dumb to catch prey, a pacifist or rip it to shreds leaving nothing to eat.\n",
    "    elif balance <= 25 or balance >= 75:\n",
    "        fitness -= 20\n",
    "    elif balance > 25 and balance < 75:\n",
    "        fitness += 10\n",
    "\n",
    "    return fitness\n",
    "    \n",
    "    ''' ADDITIONAL INFO: Testing on 10.000 random dinos reveals values between 0 an 159 with a mean of 106 '''"
   ],
   "metadata": {
    "collapsed": false,
    "pycharm": {
     "name": "#%%\n"
    }
   }
  },
  {
   "cell_type": "markdown",
   "source": [
    "### 1.2 Fitness to Fight\n",
    "\n",
    "Your T-Rex will sometimes need to fight other animals, whether over territory or simply to not lose the food it's worked so hard to hunt. Some of its traits will help it out there, but others could prove a hindrance...\n",
    "\n",
    "In general, it's always good to have your weapons and a plan on hand, if you want to defend what is yours. Size does not matter, as long as you're fast enough to strike.\n",
    "\n",
    "<details> <summary> Press for a hint </summary>\n",
    "    You most likely should use the traits teeth-size, claw-size, weight, brain-size (though we no brain-size and intelligence are not related imagine it so for this tasks sake :D) and aggression.\n",
    "</details>"
   ],
   "metadata": {
    "collapsed": false,
    "pycharm": {
     "name": "#%% md\n"
    }
   }
  },
  {
   "cell_type": "code",
   "execution_count": 63,
   "outputs": [],
   "source": [
    "def fitness_fight(trex: list) -> float:\n",
    "    '''\n",
    "    Evaluates the fitness of a T-Rex regarding its fighting capability.\n",
    "    Input: A list-like of float or int values representing the T-Rex dimensions.\\n\",\n",
    "    Returns: A fitness value as a float based on the input.\\n\",\n",
    "    '''\n",
    "    # since we get a vector of all traits we split them into the individual values for visualizations sake.\n",
    "    intelligence = trex[0]\n",
    "    teeth = trex[1]\n",
    "    weight = trex[3]\n",
    "    claws = trex[5]\n",
    "    aggression = trex[6]\n",
    "    \n",
    "    fitness = 100\n",
    "    \n",
    "    '''To successfully defend what is yours, you need to be fast. Make sure all your hunting does not leave you fat and lazy!'''\n",
    "    if (weight > 6):\n",
    "        fitness -= weight\n",
    "    else:\n",
    "        fitness += weight\n",
    "        \n",
    "    ''' Having large sharp teeth and claws and knowing how to use them makes one a dangerous opponent'''\n",
    "    if (teeth > 20 or claws > 9) and intelligence >= 0.7:\n",
    "        fitness += (teeth+claws)*intelligence\n",
    "    else:\n",
    "        fitness += np.abs(teeth-claws)*intelligence     \n",
    "    \n",
    "    ''' To fight you need to be intelligent and ruthless in equal measures.\n",
    "    The more aggressive, the more likely the T-Rex is to mindlessly attack.\n",
    "    The more intelligent, the more likely the T-Rex is to plan their strategy. '''\n",
    "    \n",
    "    balance = np.abs((intelligence*100)-aggression)\n",
    "      \n",
    "    if balance == 0 or balance == 100 or intelligence == 0 or aggression <= 10:\n",
    "        return 0 # RIP, they either are to dumb to fight or a pacifist or both\n",
    "    elif aggression >= 95:\n",
    "        fitness += 20\n",
    "    elif balance <= 25 or balance >= 75:\n",
    "        fitness -= 10\n",
    "    elif balance > 25 and balance < 75:\n",
    "        fitness += 10\n",
    "        \n",
    "    return fitness\n",
    "    ''' ADDITIONAL INFO: Testing on 10.000 random dinos reveals values between 0 and 163 with a mean of 104 '''"
   ],
   "metadata": {
    "collapsed": false,
    "pycharm": {
     "name": "#%%\n"
    }
   }
  },
  {
   "cell_type": "markdown",
   "source": [
    "### 1.3 Fitness to Flee\n",
    "\n",
    "Even a T-Rex will sometimes need to make a quick getaway if it (ahem) bites off more than it can chew. Some of its traits will help it out there, but others could prove a hindrance...\n",
    "\n",
    "When fleeing several different factors of the physiology may be beneficial or detrimental.\n",
    " * A T-Rex with longer claws and a sizable brain may find it easier to climb a tree to get away, if they are not too heavy that is.\n",
    " * Having camouflage increases the chance to successfully get lost, however, being too tall may negate some of that advantage.\n",
    " * Being too aggressive may lead to not fleeing fast enough and getting injured too much before running away.\n",
    " * The running capability of a T-Rex depends on its weight to height ratio as well, even if it is all muscles it can make them slower."
   ],
   "metadata": {
    "collapsed": false,
    "pycharm": {
     "name": "#%% md\n"
    }
   }
  },
  {
   "cell_type": "code",
   "execution_count": 64,
   "outputs": [],
   "source": [
    "def fitness_flee(trex : list) -> float:\n",
    "    \"\"\"\n",
    "    Evaluates the fitness of a T-Rex regarding running capability.\n",
    "    Input: A list-like of float or int values representing the T-Rex dimensions.\n",
    "    Returns: A fitness value as a float based on the input.\n",
    "    \"\"\"\n",
    "    \n",
    "    brain_size = trex[0]\n",
    "    teeth_size = trex[1]\n",
    "    height = trex[2]\n",
    "    weight = trex[3]\n",
    "    camouflage_level = trex[4]\n",
    "    claw_size = trex[5]\n",
    "    aggression = trex[6]\n",
    "    \n",
    "    '''Fleeing requires speed, camouflage, climbing ability and a lower aggressiveness tendancy'''\n",
    "    fitness = 100 #starts with a base fitness of 100\n",
    "    \n",
    "    '''If the dinosaur is not too heavy and has good claws and intelligence, then it may climb a tree successfully.'''\n",
    "    if claw_size >= 7 and brain_size >= 0.7 and weight <= 5.5:\n",
    "        fitness += 2*claw_size*brain_size\n",
    "    \n",
    "    '''If the dinosaur is smaller and has good camouflage it may get far enough away to get lost.'''\n",
    "    if height <= 3:\n",
    "        fitness += camouflage_level*0.1\n",
    "    else:\n",
    "        fitness += camouflage_level*0.1-height\n",
    "        \n",
    "    '''The more aggressive a dinosaur is the less likely it is to flee, even when it is the right call.'''\n",
    "    if aggression >= 50 and aggression < 75:\n",
    "        fitness -= 10\n",
    "    elif aggression >= 75 and aggression < 100:\n",
    "        fitness -= 30\n",
    "    elif aggression == 100:\n",
    "        return 0 # RIP, they really should have fled\n",
    "    \n",
    "    '''The running capabilities of the dinosaur depend on the weight to height ratio.'''\n",
    "    dinosaur_bmi = weight/height - 2 #the mean of this for all possible values should be around 2.08 so we substract 2\n",
    "    fitness += dinosaur_bmi * 10\n",
    "    \n",
    "    '''ADDITIONAL INFO: Testing this function on 10.000 random dinosaurs reveals a assigned range from 58-134 fitness, the mean being 95.'''\n",
    "    \n",
    "    return fitness"
   ],
   "metadata": {
    "collapsed": false,
    "pycharm": {
     "name": "#%%\n"
    }
   }
  },
  {
   "cell_type": "markdown",
   "source": [
    "### Overall Fitness\n",
    "\n",
    "For technical reasons, your Differential Evolution expert would prefer you assembled your T-Rex's fitness scores into one convenient overall fitness score that they can use in their evaluations. Higher scores should mean higher chances of survival and a greater level of success in the wild."
   ],
   "metadata": {
    "collapsed": false,
    "pycharm": {
     "name": "#%% md\n"
    }
   }
  },
  {
   "cell_type": "code",
   "execution_count": 65,
   "outputs": [],
   "source": [
    "def fitness(trex):\n",
    "\n",
    "    # TODO: Combine results of the three fitness functions into one coherent function\n",
    "    # ToDo if one value out of range set to min\n",
    "    fitness = np.mean([fitness_flee(trex), fitness_fight(trex), fitness_hunt(trex)])\n",
    "    return fitness\n",
    "    "
   ],
   "metadata": {
    "collapsed": false,
    "pycharm": {
     "name": "#%%\n"
    }
   }
  },
  {
   "cell_type": "markdown",
   "source": [
    "## Task 3: The More, The Merrier\n",
    "\n",
    "Congratulations! You've created a T-Rex and tested it in the wild. But in order to find the *best* T-Rex, we'll of course need more than one. Create a population of T-Rex's so we can let nature take its course and create the best one."
   ],
   "metadata": {
    "collapsed": false,
    "pycharm": {
     "name": "#%% md\n"
    }
   }
  },
  {
   "cell_type": "code",
   "execution_count": 66,
   "outputs": [],
   "source": [
    "def create_population(pop_size):\n",
    "    \n",
    "    population = []\n",
    "\n",
    "    for i in range(pop_size):\n",
    "        population.append(create_rex())\n",
    "        \n",
    "    return population"
   ],
   "metadata": {
    "collapsed": false,
    "pycharm": {
     "name": "#%%\n"
    }
   }
  },
  {
   "cell_type": "markdown",
   "source": [
    "## Task 4: Evolution Requires Preparation\n",
    "\n",
    "Now that we can create a single T-Rex, and a population of T-Rex's, it's time to use our powers of Differential Evolution to build the best Rex possible. We'll need to start by taking care of a few niggling details your Differential Evolution expert has requested you address before the real fun begins."
   ],
   "metadata": {
    "collapsed": false,
    "pycharm": {
     "name": "#%% md\n"
    }
   }
  },
  {
   "cell_type": "markdown",
   "source": [
    "### Mutation\n",
    "\n",
    "As you learned in the presentation, mutation is a key step in the Differential Evolution algorithm. Go ahead and program it here so we have it on hand later.\n"
   ],
   "metadata": {
    "collapsed": false,
    "pycharm": {
     "name": "#%% md\n"
    }
   }
  },
  {
   "cell_type": "code",
   "execution_count": 67,
   "outputs": [],
   "source": [
    "def mutation(mutating_dino_index, dino_population, mutation_factor):\n",
    "    # get 3 random vectors from the population to mutate with\n",
    "    idxs = [idx for idx in range(len(dino_population)) if idx != mutating_dino_index]\n",
    "    selected = np.random.choice(idxs, 3, replace=False)\n",
    "    a = dino_population[selected[0]]\n",
    "    b = dino_population[selected[1]]\n",
    "    c = dino_population[selected[2]]\n",
    "    \n",
    "    # mutate the dino\n",
    "    mutant_dino = np.array(a) + mutation_factor * (np.array(b) - np.array(c))\n",
    "    \n",
    "    # normalize mutated dino to a vector of 0 to 1\n",
    "    #mutant_dino = (mutant_dino - mutant_dino.min())/ (mutant_dino.max() - mutant_dino.min())\n",
    "    \n",
    "    return list(mutant_dino)\n",
    "\n"
   ],
   "metadata": {
    "pycharm": {
     "name": "#%%\n"
    }
   }
  },
  {
   "cell_type": "markdown",
   "metadata": {
    "collapsed": false,
    "pycharm": {
     "name": "#%% md\n"
    }
   },
   "source": [
    "### Crossover\n",
    "\n",
    "Another important function you'll remember from the presentation is crossover. Go ahead and implement this function here as well so we have it on hand later."
   ]
  },
  {
   "cell_type": "code",
   "execution_count": 68,
   "outputs": [],
   "source": [
    "def cross_over(mutated_dino, target_dino, crossover_rate):\n",
    "    # create cross of mutated dino & target dino\n",
    "    i = np.random.randint(1, len(target_dino))-1;\n",
    "    cross_points = np.random.rand(len(target_dino)) < crossover_rate\n",
    "    cross_points[i] = True\n",
    "    trial_dino = np.where(cross_points, mutated_dino, target_dino)\n",
    "    \n",
    "    return list(trial_dino);"
   ],
   "metadata": {
    "collapsed": false,
    "pycharm": {
     "name": "#%%\n"
    }
   }
  },
  {
   "cell_type": "markdown",
   "metadata": {
    "pycharm": {
     "name": "#%% md\n"
    }
   },
   "source": [
    "### Selection\n",
    "\n",
    "After Mutation and Crossover have created a new candidate for our T-Rex Population, we first need to check if these new Genes would give our T-Rex a survival advantage over the previous one."
   ]
  },
  {
   "cell_type": "code",
   "execution_count": 69,
   "metadata": {
    "pycharm": {
     "name": "#%%\n"
    }
   },
   "outputs": [],
   "source": [
    "def selection(trial_dino, target_dino_id, population, cost_function):\n",
    "    \"\"\"\n",
    "\n",
    "    :param trial_dino:\n",
    "    :param target_dino_id:\n",
    "    :param population:\n",
    "    :param cost_function:\n",
    "    :return:\n",
    "    \"\"\"\n",
    "    if cost_function(trial_dino) < cost_function(population[target_dino_id]):\n",
    "        population[target_dino_id] = trial_dino"
   ]
  },
  {
   "cell_type": "markdown",
   "metadata": {
    "pycharm": {
     "name": "#%% md\n"
    }
   },
   "source": [
    "## Task 5: Evolve Your T-Rex!"
   ]
  },
  {
   "cell_type": "code",
   "execution_count": 70,
   "metadata": {
    "pycharm": {
     "name": "#%%\n"
    }
   },
   "outputs": [],
   "source": [
    "def de_algorithm(crossover_rate, generations, pop_size, mutation_factor, cost_function):\n",
    "\n",
    "    population = create_population(pop_size)\n",
    "    for j in range(generations):\n",
    "        min = population[0]\n",
    "        for i in range(pop_size):\n",
    "            mutant = mutation(i, population, mutation_factor)\n",
    "            trial = cross_over(mutant, population[i], crossover_rate)\n",
    "            selection(trial, i, population, cost_function)\n",
    "            if cost_function(population[i])<cost_function(min):\n",
    "                min = population[i]\n",
    "\n",
    "        print(cost_function(min))\n",
    "            \n",
    "    return min\n"
   ]
  },
  {
   "cell_type": "code",
   "execution_count": 73,
   "outputs": [
    {
     "name": "stdout",
     "output_type": "stream",
     "text": [
      "-139.4386111111111\n",
      "-141.56740977112676\n",
      "-154.72887010713384\n",
      "-605.7547656249981\n",
      "-605.7547656249981\n",
      "-605.7547656249981\n",
      "-6729.442368856951\n",
      "-6729.442368856951\n",
      "-6729.442368856951\n",
      "-6729.442368856951\n",
      "-6729.442368856951\n",
      "-6729.442368856951\n",
      "-17835.728367994514\n",
      "-17835.728367994514\n",
      "-17835.728367994514\n",
      "-102017.12555551315\n",
      "-102017.12555551315\n",
      "-102017.12555551315\n",
      "-224251.05170508148\n",
      "-224251.05170508148\n",
      "-224251.05170508148\n",
      "-931637.0101704128\n",
      "-931637.0101704128\n",
      "-931637.0101704128\n",
      "-931637.0101704128\n",
      "-931637.0101704128\n",
      "-931637.0101704128\n",
      "-2615741.1203164184\n",
      "-9008592.499374518\n",
      "-19759913.323924735\n",
      "-19759913.323924735\n",
      "-32660360.99319\n",
      "-32660360.99319\n",
      "-52710684.18447375\n",
      "-52710684.18447375\n",
      "-52710684.18447375\n",
      "-93091197.03981759\n",
      "-1006263672.4858627\n",
      "-1006263672.4858627\n",
      "-1006263672.4858627\n",
      "-2908709150.360211\n",
      "-2908709150.360211\n",
      "-2908709150.360211\n",
      "-2908709150.360211\n",
      "-2908709150.360211\n",
      "-2908709150.360211\n",
      "-3440151891.006162\n",
      "-3440151891.006162\n",
      "-3440151891.006162\n",
      "-57783972071.71918\n",
      "[1.6472049981389398, -1344.7706247696285, 1.6845539548467928e-08, 212.20582479070885, 2133.1394873833133, 20.860725272727507, 337.6706986635054]\n",
      "57783972071.71918\n"
     ]
    }
   ],
   "source": [
    "best_rex = de_algorithm(crossover_rate=0.8, generations=50, pop_size=100, mutation_factor=0.5, cost_function=lambda x:-fitness(x))\n",
    "\n",
    "print(best_rex)\n",
    "print(fitness(best_rex))"
   ],
   "metadata": {
    "collapsed": false,
    "pycharm": {
     "name": "#%%\n"
    }
   }
  },
  {
   "cell_type": "markdown",
   "metadata": {
    "pycharm": {
     "name": "#%% md\n"
    }
   },
   "source": [
    "## Task 6: Write Up!\n",
    "\n",
    "Whew! That was a lot of work! Well, for the algorithm anyway. A representative from a company you've forgotten the name of right now (was it EnGin? InTen? Oh, nevermind) has reached out to you and asked for a report on your observations from your experiment, for reasons they'd rather not disclose apparently. They seem particularly interested in how changing various parameters might affect the process. Go ahead and play around with your algorithm a bit (perhaps you'd like to try out different population sizes or tweak your fitness function?) to generate an answer for them. Turns out your lab has an email template you can use, so all you'll need to do is plug in your observations and hope they're not used for anything...potentially problematic.\n",
    "\n",
    "(Hint - Your lab recently genetically engineered species #5698, which your team is currently calling \"Bonus Point.\" A few of those might have escaped, but if you come up with a sufficiently interesting name for yourself in the report, they might just decide to come back and help you out.)"
   ]
  },
  {
   "cell_type": "markdown",
   "metadata": {
    "pycharm": {
     "name": "#%% md\n"
    }
   },
   "source": [
    "From: BestResearcherEver (bre@uni-osnabrueck.de)\n",
    "To: NotAMadScientist (research@ingen.jp)\n",
    "\n",
    "Dear InGen Research Team,\n",
    "\n",
    "Pursuant to your request for further data on the effect of parameter manipulation in our Differential Evolution experiment with species #1475, Tyrannosaurus rex, the following is a brief report on my observations:\n",
    "\n",
    "**Your Answer Here**\n",
    "\n",
    "Sincerely,\n",
    "BestResearcherEver"
   ]
  },
  {
   "cell_type": "markdown",
   "metadata": {
    "pycharm": {
     "name": "#%% md\n"
    }
   },
   "source": [
    "## Section 2: Dino Dating\n",
    "\n",
    "So you think you can design the best dinosaur, eh? Well, you've created a pretty hearty T-Rex there, but it won't get very far if no one wants to take it out to the dance. Let's see how your top predator survives its next big challenge, Germany's latest top hit prehistoric TV show - DinoDating!\n",
    "\n",
    "This section is just for fun. You don't actually have to code anything, just plug in your best Rex and see how it fares.\n",
    "\n",
    "Normally the judges don't like to share their scoring criteria, but since this is an academic exercise, they bent the rules this once.\n",
    "\n",
    "(lower limit - upper limit) - Ooh La La!\n",
    "(lower limit - upper limit) - Dateable\n",
    "(lower limit - upper limit) - In The Right Clothes, Maybe...\n",
    "(lower limit - upper limit) - Well, no takers now, but take some time to become your best self and try again later. :)"
   ]
  },
  {
   "cell_type": "code",
   "execution_count": 75,
   "outputs": [
    {
     "name": "stdout",
     "output_type": "stream",
     "text": [
      "-316.9768949771697\n",
      "-316.9768949771697\n",
      "-676.8034097722132\n",
      "-676.8034097722132\n",
      "-676.8034097722132\n",
      "-841.9695437216126\n",
      "-841.9695437216126\n",
      "-841.9695437216126\n",
      "-882.383767684255\n",
      "-882.383767684255\n",
      "-1333.3953922360467\n",
      "-1769.935443829293\n",
      "-1795.3955860089523\n",
      "-1795.3955860089523\n",
      "-1951.595638240125\n",
      "-1951.595638240125\n",
      "-1951.595638240125\n",
      "-2119.1928396139965\n",
      "-2119.1928396139965\n",
      "-2473.927634008419\n",
      "-2473.927634008419\n",
      "-2605.738688147044\n",
      "-2775.3524269048835\n",
      "-11256.0324205593\n",
      "-11256.0324205593\n",
      "-11256.0324205593\n",
      "-11256.0324205593\n",
      "-11256.0324205593\n",
      "-11256.0324205593\n",
      "-11256.0324205593\n",
      "-11256.0324205593\n",
      "-11256.0324205593\n",
      "-11256.0324205593\n",
      "-11256.0324205593\n",
      "-11256.0324205593\n",
      "-13454.797498784883\n",
      "-13454.797498784883\n",
      "-13454.797498784883\n",
      "-13454.797498784883\n",
      "-14180.202045764847\n",
      "-15948.669829211198\n",
      "-19746.13345843471\n",
      "-22983.44358688177\n",
      "-34085.699150689106\n",
      "-40320.130825642875\n",
      "-40761.8177309332\n",
      "-50684.749507029046\n",
      "-53079.510631121084\n",
      "-72458.690873363\n",
      "-76718.26849955725\n",
      "[178.30011322591588, -33263.94935465047, -7375.86699234462, 117.79272552357088, 41194.902923093425, 739.4836997357684, -26563.924785919255]\n",
      "76718.26849955725\n",
      "done.\n"
     ]
    }
   ],
   "source": [
    "# test your algorithm to create the perfect dating dino!\n",
    "\n",
    "from dino_dating import dating_fitness\n",
    "\n",
    "best_rex = de_algorithm(crossover_rate=0.8, generations=50, pop_size=100, mutation_factor=0.5, cost_function=lambda x:-dating_fitness(x))\n",
    "\n",
    "print(best_rex)\n",
    "print(dating_fitness(best_rex))\n",
    "print('done.')"
   ],
   "metadata": {
    "collapsed": false,
    "pycharm": {
     "name": "#%%\n"
    }
   }
  }
 ],
 "metadata": {
  "kernelspec": {
   "display_name": "Python 3",
   "language": "python",
   "name": "python3"
  },
  "language_info": {
   "codemirror_mode": {
    "name": "ipython",
    "version": 3
   },
   "file_extension": ".py",
   "mimetype": "text/x-python",
   "name": "python",
   "nbconvert_exporter": "python",
   "pygments_lexer": "ipython3",
   "version": "3.8.8"
  }
 },
 "nbformat": 4,
 "nbformat_minor": 4
}
