{
 "cells": [
  {
   "cell_type": "markdown",
   "metadata": {},
   "source": [
    "## Section 1: Create Your Own T-Rex!"
   ]
  },
  {
   "cell_type": "markdown",
   "metadata": {},
   "source": [
    "The T-Rex was one of the most famous (and most dangerous) dinosaurs to have existed on Earth. With individuals reaching weights as high as 14 metric tons, these predators were something to watch out for during their prime over 60 million years ago. Now, use Python and the power of Differential Evolution to bring these animals back to life and build the best apex predator you can (but do try to avoid any...Jurassic Park style incidents while you're at it).\n",
    "\n",
    "Let the evolution begin!"
   ]
  },
  {
   "cell_type": "code",
   "execution_count": 27,
   "metadata": {},
   "outputs": [],
   "source": [
    "import numpy as np\n",
    "import random as random"
   ]
  },
  {
   "cell_type": "markdown",
   "metadata": {},
   "source": [
    "## Task 1 - Create Your T-Rex!\n",
    "\n",
    "A real T-Rex would have been a complex animal with hundreds of parameters and variations that interacted with its environment and dictated how well it could survive. Here, we'll be starting our evolutionary exercise by creating a simplified version of the predator, with only 7 principle features - brain size, teeth size, height, weight, camouflage level, claw size, and aggression.\n",
    "\n",
    "Your Differential Evolution expert has reminded you that all calculations for this algorithm occur in a multi-dimensional vector space and that they'll need that taken into account when you create the mathematical representation of your Rex. They've left the specifics of that up to you though. They did recommend starting by defining a unit of measure for your features, and setting a few logical constraints. Thankfully, they've also provided you with some helpful info that might assist you in determining reasonable units and ranges:\n",
    "\n",
    "- brain size: An adult T-Rex had a brain size of up to approximately 1kg. That's actually only about 1 liter of water!\n",
    "- teeth size: T-Rex teeth could grow to be up to 30cm long. Dentists beware!\n",
    "- height: A T-Rex could grow to be taller than 3.5 meters just at the hips. Better raise the ceiling!\n",
    "- weight: A T-Rex is estimated to have weighed between 5.000 and 7.000 kg. That's nearly three African elephants!\n",
    "- camouflage level: Camouflage is hard to measure, but you might consider a handy percentage effectiveness measure here.\n",
    "- claw size: Though not as large as some of their teeth, a T-Rex claw could still grow to around 10cm long. A dangerous weapon!\n",
    "- aggression: T-Rex was an aggressive animal, but this would have varied by individual. A percentage might be useful here as well."
   ]
  },
  {
   "cell_type": "code",
   "execution_count": 3,
   "metadata": {
    "pycharm": {
     "name": "#%%\n"
    }
   },
   "outputs": [],
   "source": [
    "def createrex():\n",
    "\n",
    "    #define variables with random initial values for each of the features above\n",
    "    #return trex, a combined vector of the parameters\n",
    "    \n",
    "    brain_size = round(random.uniform(0.5,1),1),\n",
    "    teeth_size = round(random.uniform(10,30),1),\n",
    "    height = round(random.uniform(2,4),1),\n",
    "    weight = round(random.uniform(5,7),1),\n",
    "    camouflage_level = round(random.uniform(0,100),1),\n",
    "    claw_size = round(random.uniform(5,10),1),\n",
    "    aggression = round(random.uniform(0,100),1),\n",
    "\n",
    "    trex = [brain_size,teeth_size,height,weight,camouflage_level,claw_size,aggression]\n",
    "\n",
    "    return trex"
   ]
  },
  {
   "cell_type": "markdown",
   "metadata": {},
   "source": [
    "## Task 2 - Out of the Lab and Into the Wild\n",
    "Now that you have created your T-Rex, it's time to let it loose and see how well it survives! After all, we don't want to base our next round of evolutionary exploration on an individual that doesn't survive well in the wild.\n",
    "\n",
    "Need a hint? - Don't forget how you've stored your T-Rex's trait information..."
   ]
  },
  {
   "cell_type": "markdown",
   "metadata": {},
   "source": [
    "### 1.1 Fitness to Hunt\n",
    "\n",
    "Your T-Rex needs to be able to hunt for food. Some of its traits will help it out there, but others could prove a hindrance...\n",
    "\n",
    "Lukily, there is an abundant amount of large prey our T_Rex can rip into with their sharp teeth and claws. Though there is a problem as well. While the prey is quite docile it startels easily and unless you hide properly or tactically corner it, it's likely to escape or retaliate agressively.\n",
    "\n",
    "Hint: You most likely should use the traits teeth-size, claw-size, height, camouflage, brain-size (though we no brain-size and intelligence are not related imagine it so for this tasks sake :D) and aggr"
   ]
  },
  {
   "cell_type": "code",
   "execution_count": null,
   "metadata": {},
   "outputs": [],
   "source": [
    "def fitness_hunt(trex):\n",
    "    # TODO: Add instructions for function (vector input!)\n",
    "    pass"
   ]
  },
  {
   "cell_type": "markdown",
   "metadata": {},
   "source": [
    "### 1.2 Fitness to Fight\n",
    "\n",
    "Your T-Rex will sometimes need to fight other animals, whether over territory or simply to not lose the food it's worked so hard to hunt. Some of its traits will help it out there, but others could prove a hindrance...\n",
    "\n",
    "(TODO - add the beneficial/detrimental features list here)"
   ]
  },
  {
   "cell_type": "code",
   "execution_count": null,
   "metadata": {},
   "outputs": [],
   "source": [
    "def fitness_fight(trex):\n",
    "    # TODO: Add instructions for function (vector input!)\n",
    "    pass"
   ]
  },
  {
   "cell_type": "markdown",
   "metadata": {},
   "source": [
    "### 1.3 Fitness to Flee\n",
    "\n",
    "Even a T-Rex will sometimes need to make a quick getaway if it (ahem) bites off more than it can chew. Some of its traits will help it out there, but others could prove a hindrance...\n",
    "\n",
    "(TODO - add the beneficial/detrimental features list here)"
   ]
  },
  {
   "cell_type": "code",
   "execution_count": null,
   "metadata": {},
   "outputs": [],
   "source": [
    "def fitness_flee(trex):\n",
    "    #TODO: Add instructions for function (vector input!)\n",
    "    pass"
   ]
  },
  {
   "cell_type": "markdown",
   "metadata": {},
   "source": [
    "### Overall Fitness\n",
    "\n",
    "For technical reasons, your Differential Evolution expert would prefer you assembled your T-Rex's fitness scores into one convenient overall fitness score that they can use in their evaluations. Higher scores should mean higher chances of survival and a greater level of success in the wild."
   ]
  },
  {
   "cell_type": "code",
   "execution_count": null,
   "metadata": {},
   "outputs": [],
   "source": [
    "def fitness(hunt, fight, flee):\n",
    "\n",
    "    # TODO: Combine results of the three fitness functions into one coherent function\n",
    "    \n",
    "    pass\n",
    "    "
   ]
  },
  {
   "cell_type": "markdown",
   "metadata": {},
   "source": [
    "## Task 3: The More, The Merrier\n",
    "\n",
    "Congratulations! You've created a T-Rex and tested it in the wild. But in order to find the *best* T-Rex, we'll of course need more than one. Create a population of T-Rex's so we can let nature take its course and create the best one."
   ]
  },
  {
   "cell_type": "code",
   "execution_count": null,
   "metadata": {},
   "outputs": [],
   "source": [
    "def create_population(n):\n",
    "\n",
    "    # TODO: Create n instances of the individual\n",
    "\n",
    "    pass"
   ]
  },
  {
   "cell_type": "markdown",
   "metadata": {},
   "source": [
    "## Task 4: Evolution Requires Preparation\n",
    "\n",
    "Now that we can create a single T-Rex, and a population of T-Rex's, it's time to use our powers of Differential Evolution to build the best Rex possible. We'll need to start by taking care of a few niggling details your Differential Evolution expert has requested you address before the real fun begins."
   ]
  },
  {
   "cell_type": "markdown",
   "metadata": {},
   "source": [
    "### Mutation\n",
    "\n",
    "As you learned in the presentation, mutation is a key step in the Differential Evolution algorithm. Go ahead and program it here so we have it on hand later.\n"
   ]
  },
  {
   "cell_type": "code",
   "execution_count": null,
   "metadata": {},
   "outputs": [],
   "source": [
    "def mutation():\n",
    "    # TODO: Write the mutation function\n",
    "    pass"
   ]
  },
  {
   "cell_type": "markdown",
   "metadata": {},
   "source": [
    "### Crossover\n",
    "\n",
    "Another important function you'll remember from the presentation is crossover. Go ahead and implement this function here as well so we have it on hand later."
   ]
  },
  {
   "cell_type": "code",
   "execution_count": null,
   "metadata": {},
   "outputs": [],
   "source": [
    "def cross_over():\n",
    "    # TODO: Write the crossover function\n",
    "    pass"
   ]
  },
  {
   "cell_type": "markdown",
   "metadata": {},
   "source": [
    "### Selecting Parents\n",
    "\n",
    "Each round of evolution has to start somewhere, which means we'll need a way to select the best parents to hand the algorithm each time. Go ahead and implement this function here too so we have it on hand later."
   ]
  },
  {
   "cell_type": "code",
   "execution_count": null,
   "metadata": {},
   "outputs": [],
   "source": [
    "def parent_selection():\n",
    "    # TODO: Write the parent_selection function\n",
    "    pass"
   ]
  },
  {
   "cell_type": "markdown",
   "metadata": {
    "pycharm": {
     "name": "#%% md\n"
    }
   },
   "source": [
    "## Task 5: Evolve Your T-Rex!"
   ]
  },
  {
   "cell_type": "code",
   "execution_count": null,
   "metadata": {},
   "outputs": [],
   "source": [
    "def evolve_rex():\n",
    "\n",
    "    # TODO: Put everything together\n",
    "\n",
    "    pass"
   ]
  },
  {
   "cell_type": "markdown",
   "metadata": {},
   "source": [
    "## Task 6: Write Up!\n",
    "\n",
    "Whew! That was a lot of work! Well, for the algorithm anyway. A representative from a company you've forgotten the name of right now (was it EnGin? InTen? Oh, nevermind) has reached out to you and asked for a report on your observations from your experiment, for reasons they'd rather not disclose apparently. They seem particularly interested in how changing various parameters might affect the process. Go ahead and play around with your algorithm a bit (perhaps you'd like to try out different population sizes or tweak your fitness function?) to generate an answer for them. Turns out your lab has an email template you can use, so all you'll need to do is plug in your observations and hope they're not used for anything...potentially problematic.\n",
    "\n",
    "(Hint - Your lab recently genetically engineered species #5698, which your team is currently calling \"Bonus Point.\" A few of those might have escaped, but if you come up with a sufficiently interesting name for yourself in the report, they might just decide to come back and help you out.)"
   ]
  },
  {
   "cell_type": "markdown",
   "metadata": {},
   "source": [
    "From: BestResearcherEver (bre@uni-osnabrueck.de)\n",
    "To: NotAMadScientist (research@ingen.jp)\n",
    "\n",
    "Dear InGen Research Team,\n",
    "\n",
    "Pursuant to your request for further data on the effect of parameter manipulation in our Differential Evolution experiment with species #1475, Tyrannosaurus rex, the following is a brief report on my observations:\n",
    "\n",
    "**Your Answer Here**\n",
    "\n",
    "Sincerely,\n",
    "BestResearcherEver"
   ]
  },
  {
   "cell_type": "markdown",
   "metadata": {},
   "source": [
    "## Section 2: Dino Dating\n",
    "\n",
    "So you think you can design the best dinosaur, eh? Well, you've created a pretty hearty T-Rex there, but it won't get very far if no one wants to take it out to the dance. Let's see how your top predator survives its next big challenge, Germany's latest top hit prehistoric TV show - DinoDating!\n",
    "\n",
    "This section is just for fun. You don't actually have to code anything, just plug in your best Rex and see how it fares.\n",
    "\n",
    "Normally the judges don't like to share their scoring criteria, but since this is an academic exercise, they bent the rules this once.\n",
    "\n",
    "(lower limit - upper limit) - Ooh La La!\n",
    "(lower limit - upper limit) - Dateable\n",
    "(lower limit - upper limit) - In The Right Clothes, Maybe...\n",
    "(lower limit - upper limit) - Well, no takers now, but take some time to become your best self and try again later. :)"
   ]
  },
  {
   "cell_type": "code",
   "execution_count": null,
   "metadata": {},
   "outputs": [],
   "source": [
    "def dinodating(trex):\n",
    "\n",
    "    #TODO: create function that calls our dating code from the separate .py file and runs the created T-Rex through it\n",
    "    #returns score, the overall dating score of the given T-Rex\n",
    "\n",
    "    score =\n",
    "\n",
    "    return score"
   ]
  }
 ],
 "metadata": {
  "kernelspec": {
   "display_name": "Python 3 (ipykernel)",
   "language": "python",
   "name": "python3"
  },
  "language_info": {
   "codemirror_mode": {
    "name": "ipython",
    "version": 3
   },
   "file_extension": ".py",
   "mimetype": "text/x-python",
   "name": "python",
   "nbconvert_exporter": "python",
   "pygments_lexer": "ipython3",
   "version": "3.10.4"
  }
 },
 "nbformat": 4,
 "nbformat_minor": 4
}