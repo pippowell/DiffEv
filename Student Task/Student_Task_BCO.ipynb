{
 "cells": [
  {
   "cell_type": "markdown",
   "id": "TUs7PNG1S_DB",
   "metadata": {
    "id": "TUs7PNG1S_DB"
   },
   "source": [
    "# Bee Colony Optimization - Student Programming Task\n",
    "\n",
    "presented by: Lina Lazik, Sönke Lülf, Hendrik Schmidt"
   ]
  },
  {
   "cell_type": "markdown",
   "id": "bUMiPW6gUfLT",
   "metadata": {
    "id": "bUMiPW6gUfLT"
   },
   "source": [
    "### Context:\n",
    "You were approached by the government of Lower-Saxony and tasked with helping in planning the (not yet existing) city of Osnabrück. Concretely, your task is to allocate hospitals in the city in such a way that each citizen receives optimal coverage.\n",
    "The government provided you the coordinates of places where they want to either build housing or hospitals. They want to start building as soon as possible, but therefore they need to know which places will become hospitals. They want you to choose p of the places.\n",
    "Doing this by hand is quite tedious. But luckily, the BCO algorithm can do most of the work for you. You only have to program it."
   ]
  },
  {
   "cell_type": "code",
   "execution_count": 1,
   "id": "8c700cca",
   "metadata": {
    "id": "8c700cca"
   },
   "outputs": [],
   "source": [
    "import numpy as np\n",
    "import math\n",
    "import random\n",
    "import matplotlib.pyplot as plt\n",
    "import visualization\n",
    "\n",
    "locations = visualization.get_locations()\n",
    "\n",
    "# hyperparameters for the BCO algorithm\n",
    "num_bees = 70                                                                                           #one bee is the equivalent of a hospital location proposition\n",
    "num_nodes = len(locations)                                                                              #amount of property locations\n",
    "NC = 30                                                                                                 #number of iterations\n",
    "p_centers = 5                                                                                           #amount of hospital locations\n",
    "hive = np.array([np.random.choice(num_nodes,p_centers,replace=False) for _ in range(num_bees)])         #random initialization of the bees\n",
    "fitness = np.zeros((num_bees,))                                                                         #initialization of fitness"
   ]
  },
  {
   "cell_type": "code",
   "execution_count": 2,
   "id": "ce2dcad3-c756-4f82-86cc-5be760ab7499",
   "metadata": {},
   "outputs": [],
   "source": [
    "visualization.visualize_solution(locations, hive[1])"
   ]
  },
  {
   "cell_type": "code",
   "execution_count": 3,
   "id": "d47809ec-f7fc-42bf-809a-1ce93b97d54a",
   "metadata": {},
   "outputs": [
    {
     "data": {
      "text/plain": [
       "100"
      ]
     },
     "execution_count": 3,
     "metadata": {},
     "output_type": "execute_result"
    }
   ],
   "source": [
    "len(locations)"
   ]
  },
  {
   "cell_type": "markdown",
   "id": "u_AQ3TZ881SP",
   "metadata": {
    "id": "u_AQ3TZ881SP"
   },
   "source": [
    "[Provided]\n",
    "\n",
    "(We were inspired by this paper: http://www.mi.sanu.ac.rs/~tanjad/MaksimovicDavidovic_BALCOR2013.pdf and if you have any questions you can ask us in the forum or check this paper for reference.)\n",
    "\n",
    "Here the properties locations get randomly assigned coordinates. From these locations our centers get randomly selected.\n",
    "\n",
    "The distance between two locations is represented in a matrix. In Dc the distances are sorted from lowest to highest (left to right) and Ds displayes the normal matrix but with their rank in distance (lowest to highest)."
   ]
  },
  {
   "cell_type": "code",
   "execution_count": 5,
   "id": "MMRHh2CXTO8L",
   "metadata": {
    "id": "MMRHh2CXTO8L"
   },
   "outputs": [],
   "source": [
    "distance = np.empty((num_nodes,num_nodes))                              #calculates the distance between all locations\n",
    "for i in range(len(distance[0])):\n",
    "    for j in range(len(distance[1])):\n",
    "    distance[i,j] = round(math.sqrt((locations[i,0]-locations[j,0])**2 + (locations[i,1]-locations[j,1])**2),2)\n",
    "\n",
    "dc = np.empty((num_nodes,num_nodes))\n",
    "ds = np.empty((num_nodes,num_nodes), dtype=int)\n",
    "\n",
    "for i, row in enumerate(distance):\n",
    "    dc[i] = np.sort(row)                                                  #sorts the distance-matix in ascending order\n",
    "    ds[i] = np.argsort(row)                                               #saves the order of the indices of dc"
   ]
  },
  {
   "cell_type": "markdown",
   "id": "vQL7nUk-9L68",
   "metadata": {
    "id": "vQL7nUk-9L68"
   },
   "source": [
    "[Provided]\n",
    "\n",
    "The critical distance provides the information which distance between a houshold location and the nearest hospital center is the maximum distance. To ensure that every houshold has a hospital nearby."
   ]
  },
  {
   "cell_type": "code",
   "execution_count": 9,
   "id": "reZyLR751pBH",
   "metadata": {
    "id": "reZyLR751pBH"
   },
   "outputs": [],
   "source": [
    "def critical_pair(centers):\n",
    "  \"\"\"\n",
    "    Finds the critical pair in a given set of nodes.\n",
    "    param:  centers; list, nodes that were chosen as a center\n",
    "            locations; list, the nodes in the graph\n",
    "    return: cpair; tuple, location and center that make up the critical pair\n",
    "            cdist; float, the critical distance\n",
    "  \"\"\"\n",
    "    cdist = 0\n",
    "    cpair = (0, 0)\n",
    "    for i, _ in enumerate(locations):\n",
    "    if not(i in centers):\n",
    "        for j, val in enumerate(ds[i]):\n",
    "        if val in centers:\n",
    "            dist = dc[i,j]\n",
    "            if dist > cdist:\n",
    "                cdist = dc[i,j]\n",
    "                cpair = (i,val)\n",
    "            break\n",
    "    return cpair, cdist"
   ]
  },
  {
   "cell_type": "markdown",
   "id": "LqVfdWBm9P6k",
   "metadata": {
    "id": "LqVfdWBm9P6k"
   },
   "source": [
    "### [Programming Task 1]\n",
    "\n",
    "Before we can check if the locations of the hospitals are the best ones from all the locations we need to temporally increase the number of hospital location, expanding the amount of number for hospital centers. \n",
    "Since you guys now have to many hospital centers you need to compare which hospitals can be removed from the set, without drastically increasing the critical distance. (This strategy is not guaranteed to find a solution at least as good as the original one so you might want to check for that and discard a worse solution.)\n",
    "\n",
    "Keep in mind, that at the end of this function, you should only have 5(or the number you picked at the beginning) centers.\n"
   ]
  },
  {
   "cell_type": "code",
   "execution_count": 42,
   "id": "-leKpRGUP32h",
   "metadata": {
    "id": "-leKpRGUP32h"
   },
   "outputs": [],
   "source": [
    "def expand_centers(centers):\n",
    "    \"\"\"\n",
    "      Finds the critical pair in a given set of nodes.\n",
    "      param:  centers; ndarray, nodes that were chosen as a center\n",
    "              p_centers; int, the number of centers\n",
    "              num_nodes; int, the number of nodes in the graph\n",
    "      return: new_centers; ndarray, the expanded centers\n",
    "    \"\"\"\n",
    "    # store original critical pair and distance\n",
    "    cpair, cdist = critical_pair(centers)\n",
    "    \n",
    "    # create a new array of containing the old and new centers\n",
    "    expansion = 1                  # number of additional centers\n",
    "    expanded_centers = centers     # array of centers to be expanded\n",
    "    \n",
    "    # expand number of hospitals\n",
    "    while len(expanded_centers) < p_centers + expansion:\n",
    "        new_center = random.randint(0, num_nodes-1) # choose a random location from the location array by index\n",
    "        # add new center if it is not already part of the expanded_centers array\n",
    "        if new_center not in expanded_centers:\n",
    "            expanded_centers = np.append(expanded_centers, new_center)\n",
    "    \n",
    "    # adapt expanded list of centers\n",
    "    new_centers = centers\n",
    "    for i in range(expansion):\n",
    "        temp = expanded_centers\n",
    "        # prune number of centers back to p_centers\n",
    "        while(len(temp) > p_centers):\n",
    "            #random alternative: j = random.randint(0,len(temp)-1)\n",
    "            temp = np.delete(temp, i, 0)\n",
    "            \n",
    "        # check if new centers improve critical distance\n",
    "        new_cpair, new_cdist = critical_pair(temp)\n",
    "        if (new_cdist < cdist):\n",
    "            new_centers = temp\n",
    "            cpair, cdist = new_cpair, new_cdist\n",
    "    return new_centers"
   ]
  },
  {
   "cell_type": "markdown",
   "id": "Lqoqn_u89oFy",
   "metadata": {
    "id": "Lqoqn_u89oFy"
   },
   "source": [
    "### [Programming Task 2.1]\n",
    "\n",
    "At some point in the backward pass, the bees will have to calculate their loyalty for their own solution. In order for this calculation to return a meaningful result, the bees have to normalize their fitness score. In the cell below you are asked to implement this normalization. [Hint: Consider whether you want to minimize or maximize the fitness function]"
   ]
  },
  {
   "cell_type": "code",
   "execution_count": null,
   "id": "-A_Lp84WQBL6",
   "metadata": {
    "id": "-A_Lp84WQBL6"
   },
   "outputs": [],
   "source": [
    "def normalize_value(objective, value, max_fitness, min_fitness):\n",
    "    \"\"\"\n",
    "      This function normalizes the fitness value of a bee's partial solution depending on whether the fitness function is supposed to be minimized or maximized.\n",
    "      \n",
    "      param:  objective; string, indicates what kind of problem we are dealing with\n",
    "              value; float, the current bees fitness value\n",
    "              max_fitness; float, the highest fitness score\n",
    "              min_fitness; float, the lowest fitness score\n",
    "      \n",
    "      return: normalized_fitness; float, the normalized fitness score\n",
    "    \"\"\"\n",
    "    #YOUR CODE HERE"
   ]
  },
  {
   "cell_type": "markdown",
   "id": "Ypt_QO9l9h92",
   "metadata": {
    "id": "Ypt_QO9l9h92"
   },
   "source": [
    "### [Programming Task 2.2]\n",
    "\n",
    "Now, that the bees can determine their loyalty to their own function appropriately, you will have to help the very loyal ones (those bees, that stick with their solution) to attract new bees to their solution. You can use the formula from the slides to assign each recruiter a porbability that their soluton will be chosen by any uncommitted bee."
   ]
  },
  {
   "cell_type": "code",
   "execution_count": null,
   "id": "vbhnpjupQBJS",
   "metadata": {
    "id": "vbhnpjupQBJS"
   },
   "outputs": [],
   "source": [
    "def create_roulette_wheel(recruiters, fitness):\n",
    "    \"\"\"\n",
    "      This function calculates the probability that a recruiters' partial solution is choosen by an uncommitted bee.\n",
    "\n",
    "      param:  recruiters; list, stores all the bees that have become recruiters. The bees are represented by their index in the hive\n",
    "              fitness; ndarray, all of the bees' fitness values\n",
    "              \n",
    "      return: roulette_wheel; list, holds the probability for each recruiter that his solution will be chosen by the uncommitted bees\n",
    "    \"\"\"\n",
    "    sum = fitness[recruiters].sum()\n",
    "        \n",
    "    probabilities = np.zeros(len(recruiters))\n",
    "    for counter, index in enumerate(recruiters):\n",
    "        probabilities[counter] = fitness[index]/sum\n",
    "        \n",
    "    return probabilities\n",
    "        "
   ]
  },
  {
   "cell_type": "markdown",
   "id": "NyoPYD029aEq",
   "metadata": {
    "id": "NyoPYD029aEq"
   },
   "source": [
    "### [Provided]\n",
    "\n",
    "This is the froward pass where every bee expands its chosen centers."
   ]
  },
  {
   "cell_type": "code",
   "execution_count": 36,
   "id": "O1lOhV0CQAdV",
   "metadata": {
    "id": "O1lOhV0CQAdV"
   },
   "outputs": [],
   "source": [
    "def forward_pass(hive):\n",
    "    \"\"\"\n",
    "      This function implements the forward pass for the BCO. Each bee expands its centers and stores the new solution\n",
    "\n",
    "      param: hive; ndarray, stores all the bees\n",
    "             \n",
    "    \"\"\"\n",
    "    for ind_bee in range(num_bees):\n",
    "        hive[ind_bee] = expand_centers(hive[ind_bee])\n",
    "        "
   ]
  },
  {
   "cell_type": "markdown",
   "id": "rWyK_LMv9bqe",
   "metadata": {
    "id": "rWyK_LMv9bqe"
   },
   "source": [
    "### [Programming Task 3]\n",
    "\n",
    "You now have to implement the backward pass. This is the part where every bee in the hive decides whether it wants to stay loyal to their solution or maybe adopt another bee's solution. \n",
    "\n"
   ]
  },
  {
   "cell_type": "code",
   "execution_count": null,
   "id": "vzaZ6F_pQBG9",
   "metadata": {
    "id": "vzaZ6F_pQBG9"
   },
   "outputs": [],
   "source": [
    "def backward_pass(objective, nc, hive):\n",
    "    \"\"\"\n",
    "      This function implements the backward pass for the BCO algorithm. It proceeds in the following steps:\n",
    "          1. It calculates the fitness for all the bees' solutions and identifies minimum and maximum values.\n",
    "          2. For each bee, it calculates the probability that it will stick with it's own function (loyalty) and decides\n",
    "             whether they become uncommitted (exploration) or a recruiter (exploitation)\n",
    "          3. For every uncommitted bee, it decides which recruiter they will follow.\n",
    "\n",
    "      param: objective; string, indicates what kind of problem we are dealing with\n",
    "             nc; int, the number of the current iteration\n",
    "             hive; ndarray, all the bees in one place\n",
    "\n",
    "      return: min_fitness; float, the smallest critical distance found so far and therefore the best solution\n",
    "              best_bee; ndarray, the best bee's solution\n",
    "    \"\"\"\n",
    "    #YOUR CODE HERE"
   ]
  },
  {
   "cell_type": "markdown",
   "id": "kP96T_OU9wB3",
   "metadata": {
    "id": "kP96T_OU9wB3"
   },
   "source": [
    "### [Provided]\n",
    "This is where you put everything together."
   ]
  },
  {
   "cell_type": "code",
   "execution_count": null,
   "id": "r8rshxMzQBOf",
   "metadata": {
    "id": "r8rshxMzQBOf"
   },
   "outputs": [],
   "source": [
    "def BCO():\n",
    "  best = []\n",
    "  best_bee = []\n",
    "  for i in range(NC):\n",
    "    forward_pass(hive)\n",
    "    curr_best, curr_bee = backward_pass(\"min\", i+1, hive) \n",
    "    best.append(curr_best)\n",
    "    best_bee.append(curr_bee)\n",
    "    print(f\"The best bee in iteration {i} has a score of: {curr_best}\")\n",
    "\n",
    "  return best_bee[NC-1]        "
   ]
  },
  {
   "cell_type": "code",
   "execution_count": null,
   "id": "4JFC1rkIQBRG",
   "metadata": {
    "id": "4JFC1rkIQBRG"
   },
   "outputs": [],
   "source": [
    "best = BCO()\n",
    "visualization.visualize_solution(locations,best)"
   ]
  }
 ],
 "metadata": {
  "colab": {
   "collapsed_sections": [],
   "name": "Student_Task_BCO.ipynb",
   "provenance": []
  },
  "kernelspec": {
   "display_name": "Python 3 (ipykernel)",
   "language": "python",
   "name": "python3"
  },
  "language_info": {
   "codemirror_mode": {
    "name": "ipython",
    "version": 3
   },
   "file_extension": ".py",
   "mimetype": "text/x-python",
   "name": "python",
   "nbconvert_exporter": "python",
   "pygments_lexer": "ipython3",
   "version": "3.9.7"
  }
 },
 "nbformat": 4,
 "nbformat_minor": 5
}
